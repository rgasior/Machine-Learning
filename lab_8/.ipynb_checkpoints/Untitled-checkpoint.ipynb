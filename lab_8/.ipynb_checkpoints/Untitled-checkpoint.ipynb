{
 "cells": [
  {
   "cell_type": "markdown",
   "id": "f6276c8e",
   "metadata": {},
   "source": [
    "Lab 8\n",
    "Rafał Gąsior 407326"
   ]
  },
  {
   "cell_type": "markdown",
   "id": "8e9850bc",
   "metadata": {},
   "source": [
    "## Anomaly detection"
   ]
  },
  {
   "cell_type": "markdown",
   "id": "33a29bef",
   "metadata": {},
   "source": [
    "During this exercise we are going to implement an anomaly detection algorithm for server computers. The features measure the throughput (mb/s) and latency (ms) of response of each server."
   ]
  },
  {
   "cell_type": "markdown",
   "id": "de9e6225",
   "metadata": {},
   "source": [
    "Load the dataset"
   ]
  },
  {
   "cell_type": "code",
   "execution_count": null,
   "id": "074b27a1",
   "metadata": {},
   "outputs": [],
   "source": []
  }
 ],
 "metadata": {
  "kernelspec": {
   "display_name": "Python 3",
   "language": "python",
   "name": "python3"
  },
  "language_info": {
   "codemirror_mode": {
    "name": "ipython",
    "version": 3
   },
   "file_extension": ".py",
   "mimetype": "text/x-python",
   "name": "python",
   "nbconvert_exporter": "python",
   "pygments_lexer": "ipython3",
   "version": "3.8.8"
  }
 },
 "nbformat": 4,
 "nbformat_minor": 5
}
