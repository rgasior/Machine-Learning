{
 "cells": [
  {
   "cell_type": "markdown",
   "id": "2d111d6f",
   "metadata": {},
   "source": [
    "Lab 9 \n",
    "\n"
   ]
  },
  {
   "cell_type": "markdown",
   "id": "55b999a3",
   "metadata": {},
   "source": [
    "Rafał Gąsior 407326"
   ]
  },
  {
   "cell_type": "markdown",
   "id": "3dd62eaa",
   "metadata": {},
   "source": [
    "### Ensemble methods"
   ]
  },
  {
   "cell_type": "markdown",
   "id": "a1c4ae7c",
   "metadata": {},
   "source": [
    "#### Single Classifier vs Bagging vs Boosting\n",
    "In this exercise you will compare the accuracy of various types of classifier ensembles: \n",
    "* a single decision tree\n",
    "* a bagged decision tree\n",
    "* the AdaBoost algorithm for decision trees\n",
    "* the Gradient Boosting algorithm for decision trees\n",
    "\n",
    "In this exercise use the full dataset obtained using load_wine() function - sklearn.datasets. "
   ]
  },
  {
   "cell_type": "markdown",
   "id": "f9cbd3af",
   "metadata": {},
   "source": [
    "Use the following parameters values for decision trees and classifier ensembles (look for the appropriate parameters in the sklearn documentation):\n",
    "* in all cases:\n",
    "    * the minimum of samples required to be at a leaf node: 3\n",
    "* for all classifier ensembles:\n",
    "    * the number of base estimators in the ensemble: should be constant for all methods (eg. 50 or 100)\n",
    "* for all methods using boosting:\n",
    "    * maximum depth of the individual estimator: 1\n",
    "* AdaBoostClassifier\n",
    "    * algorithm: SAMME\n",
    "* GradientBoostingClassifier\n",
    "    * learning rate: 1.0\n",
    "    * subsampling: 0.5\n",
    "    \n",
    "Remember to manually set the random seed (parameter random_state) whenever it's possible – to ensure reproducibility of results! "
   ]
  },
  {
   "cell_type": "code",
   "execution_count": 42,
   "id": "29dcdf63",
   "metadata": {},
   "outputs": [],
   "source": [
    "from sklearn.datasets import load_wine\n",
    "from sklearn.tree import DecisionTreeClassifier\n",
    "from sklearn.model_selection import train_test_split, cross_val_score\n",
    "from sklearn.ensemble import BaggingClassifier, AdaBoostClassifier, GradientBoostingClassifier\n",
    "from sklearn.metrics import accuracy_score\n",
    "from sklearn.model_selection import cross_val_score\n",
    "import pandas as pd\n",
    "import numpy as np\n",
    "import matplotlib.pyplot as plt"
   ]
  },
  {
   "cell_type": "code",
   "execution_count": 43,
   "id": "366c239e",
   "metadata": {},
   "outputs": [
    {
     "data": {
      "text/html": [
       "<div>\n",
       "<style scoped>\n",
       "    .dataframe tbody tr th:only-of-type {\n",
       "        vertical-align: middle;\n",
       "    }\n",
       "\n",
       "    .dataframe tbody tr th {\n",
       "        vertical-align: top;\n",
       "    }\n",
       "\n",
       "    .dataframe thead th {\n",
       "        text-align: right;\n",
       "    }\n",
       "</style>\n",
       "<table border=\"1\" class=\"dataframe\">\n",
       "  <thead>\n",
       "    <tr style=\"text-align: right;\">\n",
       "      <th></th>\n",
       "      <th>alcohol</th>\n",
       "      <th>malic_acid</th>\n",
       "      <th>ash</th>\n",
       "      <th>alcalinity_of_ash</th>\n",
       "      <th>magnesium</th>\n",
       "      <th>total_phenols</th>\n",
       "      <th>flavanoids</th>\n",
       "      <th>nonflavanoid_phenols</th>\n",
       "      <th>proanthocyanins</th>\n",
       "      <th>color_intensity</th>\n",
       "      <th>hue</th>\n",
       "      <th>od280/od315_of_diluted_wines</th>\n",
       "      <th>proline</th>\n",
       "    </tr>\n",
       "  </thead>\n",
       "  <tbody>\n",
       "    <tr>\n",
       "      <th>0</th>\n",
       "      <td>14.23</td>\n",
       "      <td>1.71</td>\n",
       "      <td>2.43</td>\n",
       "      <td>15.6</td>\n",
       "      <td>127.0</td>\n",
       "      <td>2.80</td>\n",
       "      <td>3.06</td>\n",
       "      <td>0.28</td>\n",
       "      <td>2.29</td>\n",
       "      <td>5.64</td>\n",
       "      <td>1.04</td>\n",
       "      <td>3.92</td>\n",
       "      <td>1065.0</td>\n",
       "    </tr>\n",
       "    <tr>\n",
       "      <th>1</th>\n",
       "      <td>13.20</td>\n",
       "      <td>1.78</td>\n",
       "      <td>2.14</td>\n",
       "      <td>11.2</td>\n",
       "      <td>100.0</td>\n",
       "      <td>2.65</td>\n",
       "      <td>2.76</td>\n",
       "      <td>0.26</td>\n",
       "      <td>1.28</td>\n",
       "      <td>4.38</td>\n",
       "      <td>1.05</td>\n",
       "      <td>3.40</td>\n",
       "      <td>1050.0</td>\n",
       "    </tr>\n",
       "    <tr>\n",
       "      <th>2</th>\n",
       "      <td>13.16</td>\n",
       "      <td>2.36</td>\n",
       "      <td>2.67</td>\n",
       "      <td>18.6</td>\n",
       "      <td>101.0</td>\n",
       "      <td>2.80</td>\n",
       "      <td>3.24</td>\n",
       "      <td>0.30</td>\n",
       "      <td>2.81</td>\n",
       "      <td>5.68</td>\n",
       "      <td>1.03</td>\n",
       "      <td>3.17</td>\n",
       "      <td>1185.0</td>\n",
       "    </tr>\n",
       "    <tr>\n",
       "      <th>3</th>\n",
       "      <td>14.37</td>\n",
       "      <td>1.95</td>\n",
       "      <td>2.50</td>\n",
       "      <td>16.8</td>\n",
       "      <td>113.0</td>\n",
       "      <td>3.85</td>\n",
       "      <td>3.49</td>\n",
       "      <td>0.24</td>\n",
       "      <td>2.18</td>\n",
       "      <td>7.80</td>\n",
       "      <td>0.86</td>\n",
       "      <td>3.45</td>\n",
       "      <td>1480.0</td>\n",
       "    </tr>\n",
       "    <tr>\n",
       "      <th>4</th>\n",
       "      <td>13.24</td>\n",
       "      <td>2.59</td>\n",
       "      <td>2.87</td>\n",
       "      <td>21.0</td>\n",
       "      <td>118.0</td>\n",
       "      <td>2.80</td>\n",
       "      <td>2.69</td>\n",
       "      <td>0.39</td>\n",
       "      <td>1.82</td>\n",
       "      <td>4.32</td>\n",
       "      <td>1.04</td>\n",
       "      <td>2.93</td>\n",
       "      <td>735.0</td>\n",
       "    </tr>\n",
       "    <tr>\n",
       "      <th>...</th>\n",
       "      <td>...</td>\n",
       "      <td>...</td>\n",
       "      <td>...</td>\n",
       "      <td>...</td>\n",
       "      <td>...</td>\n",
       "      <td>...</td>\n",
       "      <td>...</td>\n",
       "      <td>...</td>\n",
       "      <td>...</td>\n",
       "      <td>...</td>\n",
       "      <td>...</td>\n",
       "      <td>...</td>\n",
       "      <td>...</td>\n",
       "    </tr>\n",
       "    <tr>\n",
       "      <th>173</th>\n",
       "      <td>13.71</td>\n",
       "      <td>5.65</td>\n",
       "      <td>2.45</td>\n",
       "      <td>20.5</td>\n",
       "      <td>95.0</td>\n",
       "      <td>1.68</td>\n",
       "      <td>0.61</td>\n",
       "      <td>0.52</td>\n",
       "      <td>1.06</td>\n",
       "      <td>7.70</td>\n",
       "      <td>0.64</td>\n",
       "      <td>1.74</td>\n",
       "      <td>740.0</td>\n",
       "    </tr>\n",
       "    <tr>\n",
       "      <th>174</th>\n",
       "      <td>13.40</td>\n",
       "      <td>3.91</td>\n",
       "      <td>2.48</td>\n",
       "      <td>23.0</td>\n",
       "      <td>102.0</td>\n",
       "      <td>1.80</td>\n",
       "      <td>0.75</td>\n",
       "      <td>0.43</td>\n",
       "      <td>1.41</td>\n",
       "      <td>7.30</td>\n",
       "      <td>0.70</td>\n",
       "      <td>1.56</td>\n",
       "      <td>750.0</td>\n",
       "    </tr>\n",
       "    <tr>\n",
       "      <th>175</th>\n",
       "      <td>13.27</td>\n",
       "      <td>4.28</td>\n",
       "      <td>2.26</td>\n",
       "      <td>20.0</td>\n",
       "      <td>120.0</td>\n",
       "      <td>1.59</td>\n",
       "      <td>0.69</td>\n",
       "      <td>0.43</td>\n",
       "      <td>1.35</td>\n",
       "      <td>10.20</td>\n",
       "      <td>0.59</td>\n",
       "      <td>1.56</td>\n",
       "      <td>835.0</td>\n",
       "    </tr>\n",
       "    <tr>\n",
       "      <th>176</th>\n",
       "      <td>13.17</td>\n",
       "      <td>2.59</td>\n",
       "      <td>2.37</td>\n",
       "      <td>20.0</td>\n",
       "      <td>120.0</td>\n",
       "      <td>1.65</td>\n",
       "      <td>0.68</td>\n",
       "      <td>0.53</td>\n",
       "      <td>1.46</td>\n",
       "      <td>9.30</td>\n",
       "      <td>0.60</td>\n",
       "      <td>1.62</td>\n",
       "      <td>840.0</td>\n",
       "    </tr>\n",
       "    <tr>\n",
       "      <th>177</th>\n",
       "      <td>14.13</td>\n",
       "      <td>4.10</td>\n",
       "      <td>2.74</td>\n",
       "      <td>24.5</td>\n",
       "      <td>96.0</td>\n",
       "      <td>2.05</td>\n",
       "      <td>0.76</td>\n",
       "      <td>0.56</td>\n",
       "      <td>1.35</td>\n",
       "      <td>9.20</td>\n",
       "      <td>0.61</td>\n",
       "      <td>1.60</td>\n",
       "      <td>560.0</td>\n",
       "    </tr>\n",
       "  </tbody>\n",
       "</table>\n",
       "<p>178 rows × 13 columns</p>\n",
       "</div>"
      ],
      "text/plain": [
       "     alcohol  malic_acid   ash  alcalinity_of_ash  magnesium  total_phenols  \\\n",
       "0      14.23        1.71  2.43               15.6      127.0           2.80   \n",
       "1      13.20        1.78  2.14               11.2      100.0           2.65   \n",
       "2      13.16        2.36  2.67               18.6      101.0           2.80   \n",
       "3      14.37        1.95  2.50               16.8      113.0           3.85   \n",
       "4      13.24        2.59  2.87               21.0      118.0           2.80   \n",
       "..       ...         ...   ...                ...        ...            ...   \n",
       "173    13.71        5.65  2.45               20.5       95.0           1.68   \n",
       "174    13.40        3.91  2.48               23.0      102.0           1.80   \n",
       "175    13.27        4.28  2.26               20.0      120.0           1.59   \n",
       "176    13.17        2.59  2.37               20.0      120.0           1.65   \n",
       "177    14.13        4.10  2.74               24.5       96.0           2.05   \n",
       "\n",
       "     flavanoids  nonflavanoid_phenols  proanthocyanins  color_intensity   hue  \\\n",
       "0          3.06                  0.28             2.29             5.64  1.04   \n",
       "1          2.76                  0.26             1.28             4.38  1.05   \n",
       "2          3.24                  0.30             2.81             5.68  1.03   \n",
       "3          3.49                  0.24             2.18             7.80  0.86   \n",
       "4          2.69                  0.39             1.82             4.32  1.04   \n",
       "..          ...                   ...              ...              ...   ...   \n",
       "173        0.61                  0.52             1.06             7.70  0.64   \n",
       "174        0.75                  0.43             1.41             7.30  0.70   \n",
       "175        0.69                  0.43             1.35            10.20  0.59   \n",
       "176        0.68                  0.53             1.46             9.30  0.60   \n",
       "177        0.76                  0.56             1.35             9.20  0.61   \n",
       "\n",
       "     od280/od315_of_diluted_wines  proline  \n",
       "0                            3.92   1065.0  \n",
       "1                            3.40   1050.0  \n",
       "2                            3.17   1185.0  \n",
       "3                            3.45   1480.0  \n",
       "4                            2.93    735.0  \n",
       "..                            ...      ...  \n",
       "173                          1.74    740.0  \n",
       "174                          1.56    750.0  \n",
       "175                          1.56    835.0  \n",
       "176                          1.62    840.0  \n",
       "177                          1.60    560.0  \n",
       "\n",
       "[178 rows x 13 columns]"
      ]
     },
     "metadata": {},
     "output_type": "display_data"
    }
   ],
   "source": [
    "data = load_wine()\n",
    "X = pd.DataFrame(data.data, columns = data.feature_names)\n",
    "y = data.target\n",
    "\n",
    "display(X)"
   ]
  },
  {
   "cell_type": "markdown",
   "id": "f52ff190",
   "metadata": {},
   "source": [
    "#### 1. Fit the model on the whole dataset"
   ]
  },
  {
   "cell_type": "code",
   "execution_count": 44,
   "id": "d807023b",
   "metadata": {},
   "outputs": [],
   "source": [
    "X_train, X_test, y_train, y_test = train_test_split(X, y, test_size=.20, random_state=1)"
   ]
  },
  {
   "cell_type": "markdown",
   "id": "bb61302c",
   "metadata": {},
   "source": [
    "#### 2.Compute the cumulative improvement\n",
    "* #### Single Decission Tree"
   ]
  },
  {
   "cell_type": "code",
   "execution_count": 45,
   "id": "9b2056dd",
   "metadata": {},
   "outputs": [
    {
     "name": "stdout",
     "output_type": "stream",
     "text": [
      "Cross val score:  [0.94444444 0.80555556 0.80555556 0.91428571 0.97142857]\n",
      "Average:  0.8882539682539681\n",
      "Accuracy score:  0.9722222222222222\n"
     ]
    }
   ],
   "source": [
    "clf = DecisionTreeClassifier(min_samples_leaf = 3, random_state=1)\n",
    "clf.fit(X, y)    \n",
    "clf_score = cross_val_score(clf, X, y)\n",
    "y_pred = clf.predict(X_test)\n",
    "print(\"Cross val score: \", clf_score)\n",
    "print(\"Average: \", np.mean(clf_score))\n",
    "print(\"Accuracy score: \", accuracy_score(y_test, y_pred))\n",
    "\n",
    "#Decision tree scores: [0.94444444 0.80555556 0.80555556 0.91428571 0.97142857], (avg: 0.8882539682539681)"
   ]
  },
  {
   "cell_type": "markdown",
   "id": "62ef70a3",
   "metadata": {},
   "source": [
    "* #### Bagged Decision Tree"
   ]
  },
  {
   "cell_type": "code",
   "execution_count": 46,
   "id": "b9eefe4e",
   "metadata": {},
   "outputs": [
    {
     "name": "stdout",
     "output_type": "stream",
     "text": [
      "Cross val score:  [0.91666667 0.91666667 0.94444444 0.97142857 1.        ]\n",
      "Average:  0.9498412698412698\n",
      "Accuracy score:  1.0\n"
     ]
    }
   ],
   "source": [
    "base = DecisionTreeClassifier(min_samples_leaf = 3, random_state=1)\n",
    "clf = BaggingClassifier(base_estimator=base, random_state=1, n_estimators=50)\n",
    "clf.fit(X, y)    \n",
    "clf_score = cross_val_score(clf, X, y)\n",
    "y_pred = clf.predict(X_test)\n",
    "print(\"Cross val score: \", clf_score)\n",
    "print(\"Average: \", np.mean(clf_score))\n",
    "print(\"Accuracy score: \", accuracy_score(y_test, y_pred))\n",
    "\n",
    "# Bagging scores: [0.91666667 0.91666667 0.94444444 0.97142857 1.    ], (avg: 0.9498412698412698)"
   ]
  },
  {
   "cell_type": "markdown",
   "id": "de8b56fe",
   "metadata": {},
   "source": [
    "* #### AdaBoost algorithm for decision trees"
   ]
  },
  {
   "cell_type": "code",
   "execution_count": 47,
   "id": "ca478d77",
   "metadata": {},
   "outputs": [
    {
     "name": "stdout",
     "output_type": "stream",
     "text": [
      "Cross val score:  [0.83333333 0.91666667 0.91666667 1.         1.        ]\n",
      "Average:  0.9333333333333332\n",
      "Accuracy score:  1.0\n"
     ]
    }
   ],
   "source": [
    "base = DecisionTreeClassifier(max_depth=1, min_samples_leaf = 3, random_state=1)\n",
    "clf = AdaBoostClassifier(base_estimator=base, random_state=1, n_estimators=50, algorithm='SAMME')\n",
    "clf.fit(X, y)    \n",
    "clf_score = cross_val_score(clf, X, y)\n",
    "y_pred = clf.predict(X_test)\n",
    "print(\"Cross val score: \", clf_score)\n",
    "print(\"Average: \", np.mean(clf_score))\n",
    "print(\"Accuracy score: \", accuracy_score(y_test, y_pred))\n",
    "\n",
    "# AdaBoost scores: [0.83333333 0.91666667 0.91666667 1.         1.        ], (avg: 0.9333333333333332)"
   ]
  },
  {
   "cell_type": "markdown",
   "id": "de287d79",
   "metadata": {},
   "source": [
    "* #### Gradient Boosting algorithm for decision trees"
   ]
  },
  {
   "cell_type": "code",
   "execution_count": 48,
   "id": "7bd98d2c",
   "metadata": {},
   "outputs": [
    {
     "name": "stdout",
     "output_type": "stream",
     "text": [
      "Cross val score:  [0.91666667 0.97222222 0.97222222 0.42857143 0.97142857]\n",
      "Average:  0.8522222222222222\n",
      "Accuracy score:  1.0\n"
     ]
    }
   ],
   "source": [
    "clf = GradientBoostingClassifier(n_estimators=50, min_samples_leaf = 3, subsample=0.5, learning_rate=1.0, max_depth=1, random_state=1)\n",
    "clf.fit(X, y)    \n",
    "clf_score = cross_val_score(clf, X, y)\n",
    "y_pred = clf.predict(X_test)\n",
    "print(\"Cross val score: \", clf_score)\n",
    "print(\"Average: \", np.mean(clf_score))\n",
    "print(\"Accuracy score: \", accuracy_score(y_test, y_pred))\n",
    "\n",
    "#Gradient boosting scores: [0.91666667 0.97222222 0.97222222 0.42857143 0.97142857], (avg: 0.8522222222222222)\n"
   ]
  },
  {
   "cell_type": "code",
   "execution_count": 49,
   "id": "543546c6",
   "metadata": {},
   "outputs": [
    {
     "data": {
      "image/png": "[encoded data removed]",
      "text/plain": [
       "<Figure size 576x432 with 1 Axes>"
      ]
     },
     "metadata": {
      "needs_background": "light"
     },
     "output_type": "display_data"
    }
   ],
   "source": [
    "cs = np.cumsum(clf.oob_improvement_)\n",
    "plt.figure(figsize=(8,6))\n",
    "plt.plot(np.linspace(0, len(cs), 50), cs)\n",
    "plt.xlabel(\"Number of iterations\")\n",
    "plt.ylabel(\"OOB loss\")\n",
    "plt.title(\"The above-mentioned OOB loss with respect to the number of iterations\")\n",
    "plt.grid()\n",
    "plt.show()"
   ]
  }
 ],
 "metadata": {
  "kernelspec": {
   "display_name": "Python 3",
   "language": "python",
   "name": "python3"
  },
  "language_info": {
   "codemirror_mode": {
    "name": "ipython",
    "version": 3
   },
   "file_extension": ".py",
   "mimetype": "text/x-python",
   "name": "python",
   "nbconvert_exporter": "python",
   "pygments_lexer": "ipython3",
   "version": "3.8.8"
  }
 },
 "nbformat": 4,
 "nbformat_minor": 5
}
