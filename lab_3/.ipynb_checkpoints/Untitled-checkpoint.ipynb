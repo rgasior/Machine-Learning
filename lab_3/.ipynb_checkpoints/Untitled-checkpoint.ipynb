{
 "cells": [
  {
   "cell_type": "code",
   "execution_count": null,
   "id": "1af75a48",
   "metadata": {},
   "outputs": [],
   "source": [
    "# import numpy as np\n",
    "# import pandas as pd\n",
    "# import matplotlib\n",
    "# matplotlib.use('TkAgg')\n",
    "# import matplotlib.pyplot as plt\n",
    "\n",
    "# import os\n"
   ]
  },
  {
   "cell_type": "code",
   "execution_count": null,
   "id": "d73a0743",
   "metadata": {},
   "outputs": [],
   "source": [
    "import numpy as np\n",
    "import pandas as pd\n",
    "import matplotlib.pyplot as plt\n",
    "from math import e\n",
    "from sklearn.metrics import mean_squared_error\n",
    "from sklearn.metrics import r2_score\n",
    "\n",
    "import os\n",
    "path = os.getcwd() + '/ex2data1.txt'\n",
    "data = pd.read_csv(path, header=None, names=['Exam 1', 'Exam 2', 'Admitted'])"
   ]
  },
  {
   "cell_type": "code",
   "execution_count": null,
   "id": "6dc1b84a",
   "metadata": {},
   "outputs": [],
   "source": [
    "path = os.getcwd() + '/ex2data1.txt'\n",
    "data = pd.read_csv(path, header=None, names=['Exam 1', 'Exam 2', 'Admitted'])"
   ]
  },
  {
   "cell_type": "code",
   "execution_count": null,
   "id": "ab86474d",
   "metadata": {},
   "outputs": [],
   "source": [
    "data.head()"
   ]
  },
  {
   "cell_type": "code",
   "execution_count": null,
   "id": "e1cb549c",
   "metadata": {},
   "outputs": [],
   "source": [
    "X = data.values[:, :2].T\n",
    "y = data.values[:, 2:].T\n",
    "\n",
    "for i in range(X.shape[0]):\n",
    "    X[i, :] = (X[i, :] - np.mean(X[i, :])) / (np.std(X[i, :]))\n",
    "\n",
    "it = 100000\n",
    "alpha = 0.01\n",
    "no_of_deegree = 2\n",
    "assert no_of_deegree > 0\n",
    "\n",
    "\n",
    "for i in range(2, no_of_deegree+1):\n",
    "    X = np.concatenate([X, X[0:1, :]**i])\n",
    "X = np.concatenate([np.ones([1, X.shape[1]]), X])\n",
    "\n",
    "theta = np.zeros((X.shape[0], 1))\n"
   ]
  },
  {
   "cell_type": "code",
   "execution_count": null,
   "id": "7b5dfc7e",
   "metadata": {},
   "outputs": [],
   "source": [
    "def sig(t):\n",
    "    return 1.0 / (1.0 + np.exp(-t))\n",
    "\n",
    "\n",
    "def computeCost(X, y, theta, eps=10e-5):\n",
    "    h = sig(theta.T @ X)\n",
    "    y_1 = -y*np.log(h+eps)\n",
    "    y_0 = (1-y)*np.log(1-h+eps)\n",
    "    J = (y_1 - y_0).sum() / y.shape[1]\n",
    "    return J"
   ]
  },
  {
   "cell_type": "code",
   "execution_count": null,
   "id": "67df236d",
   "metadata": {},
   "outputs": [],
   "source": [
    "print(f'cost = {computeCost(X, y, theta)}')"
   ]
  },
  {
   "cell_type": "code",
   "execution_count": null,
   "id": "adce0e1e",
   "metadata": {},
   "outputs": [],
   "source": [
    "def simple_gradient(X, y, theta, alpha, it):\n",
    "    cost = []\n",
    "    for i in range(it):\n",
    "        h = sig(theta.T @ X)\n",
    "        h_y = h - y\n",
    "        h_yxX = h_y @ X.T\n",
    "        theta = theta - alpha * h_yxX.T / X.shape[1]\n",
    "\n",
    "        cost += [computeCost(X, y, theta)]\n",
    "\n",
    "    return theta, cost"
   ]
  },
  {
   "cell_type": "code",
   "execution_count": null,
   "id": "79b40830",
   "metadata": {},
   "outputs": [],
   "source": [
    "theta, cost = simple_gradient(X, y, theta, alpha, it)\n",
    "\n",
    "print(f'cost after optimization: {cost[-1]}')\n",
    "print(f'theta: {theta}')"
   ]
  },
  {
   "cell_type": "code",
   "execution_count": null,
   "id": "be3a5e67",
   "metadata": {},
   "outputs": [],
   "source": [
    "# accuracy\n",
    "preds = np.round(sig(theta.T @ X))\n",
    "correct = (preds == y).astype(int).sum()\n",
    "acc = correct / X.shape[1]\n",
    "print(f'accuracy = {acc}')"
   ]
  },
  {
   "cell_type": "code",
   "execution_count": null,
   "id": "1e04986f",
   "metadata": {},
   "outputs": [],
   "source": [
    "# plot\n",
    "fig, (ax1, ax2) = plt.subplots(1, 2)\n",
    "# cost\n",
    "ax1.plot(cost)"
   ]
  },
  {
   "cell_type": "code",
   "execution_count": null,
   "id": "41c08e54",
   "metadata": {},
   "outputs": [],
   "source": [
    "# decision boundary\n",
    "step = 0.02\n",
    "x1 = np.arange(X[1, :].min(), X[1, :].max()+step, step)\n",
    "x2 = -theta[0, 0]/theta[2, 0] - (theta[1, 0]/theta[2, 0]*x1)\n",
    "for i in range(2, no_of_deegree+1):\n",
    "    x2 += -(theta[i+1, 0]/theta[2, 0]*x1**i)\n",
    "ax2.plot(x1, x2)\n",
    "X1_1 = X[1, y[0, :] == 1.0]\n",
    "X2_1 = X[2, y[0, :] == 1.0]\n",
    "X1_0 = X[1, y[0, :] == 0.0]\n",
    "X2_0 = X[2, y[0, :] == 0.0]\n",
    "ax2.plot(X1_1, X2_1, 'o')\n",
    "ax2.plot(X1_0, X2_0, 'x')\n",
    "ax2.axis(xmin=X[1, :].min()-step, xmax=X[1, :].max()+2*step)\n",
    "ax2.axis(ymin=X[2, :].min()-step, ymax=X[2, :].max()+2*step)\n",
    "plt.show()\n",
    "pass"
   ]
  }
 ],
 "metadata": {
  "kernelspec": {
   "display_name": "Python 3",
   "language": "python",
   "name": "python3"
  },
  "language_info": {
   "codemirror_mode": {
    "name": "ipython",
    "version": 3
   },
   "file_extension": ".py",
   "mimetype": "text/x-python",
   "name": "python",
   "nbconvert_exporter": "python",
   "pygments_lexer": "ipython3",
   "version": "3.8.8"
  }
 },
 "nbformat": 4,
 "nbformat_minor": 5
}
