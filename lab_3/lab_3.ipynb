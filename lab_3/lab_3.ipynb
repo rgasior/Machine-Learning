{
 "cells": [
  {
   "cell_type": "markdown",
   "id": "ce3efe33",
   "metadata": {},
   "source": [
    "### Import libraries"
   ]
  },
  {
   "cell_type": "code",
   "execution_count": 40,
   "id": "3f107568",
   "metadata": {},
   "outputs": [],
   "source": [
    "import numpy as np\n",
    "import pandas as pd\n",
    "import matplotlib.pyplot as plt\n",
    "from math import e\n",
    "from sklearn.metrics import mean_squared_error\n",
    "from sklearn.metrics import r2_score\n",
    "\n",
    "import os\n",
    "path = os.getcwd() + '/ex2data1.txt'\n",
    "data = pd.read_csv(path, header=None, names=['Exam 1', 'Exam 2', 'Admitted'])"
   ]
  },
  {
   "cell_type": "markdown",
   "id": "ede37c30",
   "metadata": {},
   "source": [
    "#### Ex.0. Please get yourself familiar with the data"
   ]
  },
  {
   "cell_type": "code",
   "execution_count": 2,
   "id": "99774146",
   "metadata": {},
   "outputs": [
    {
     "data": {
      "text/html": [
       "<div>\n",
       "<style scoped>\n",
       "    .dataframe tbody tr th:only-of-type {\n",
       "        vertical-align: middle;\n",
       "    }\n",
       "\n",
       "    .dataframe tbody tr th {\n",
       "        vertical-align: top;\n",
       "    }\n",
       "\n",
       "    .dataframe thead th {\n",
       "        text-align: right;\n",
       "    }\n",
       "</style>\n",
       "<table border=\"1\" class=\"dataframe\">\n",
       "  <thead>\n",
       "    <tr style=\"text-align: right;\">\n",
       "      <th></th>\n",
       "      <th>Exam 1</th>\n",
       "      <th>Exam 2</th>\n",
       "      <th>Admitted</th>\n",
       "    </tr>\n",
       "  </thead>\n",
       "  <tbody>\n",
       "    <tr>\n",
       "      <th>0</th>\n",
       "      <td>34.623660</td>\n",
       "      <td>78.024693</td>\n",
       "      <td>0</td>\n",
       "    </tr>\n",
       "    <tr>\n",
       "      <th>1</th>\n",
       "      <td>30.286711</td>\n",
       "      <td>43.894998</td>\n",
       "      <td>0</td>\n",
       "    </tr>\n",
       "    <tr>\n",
       "      <th>2</th>\n",
       "      <td>35.847409</td>\n",
       "      <td>72.902198</td>\n",
       "      <td>0</td>\n",
       "    </tr>\n",
       "    <tr>\n",
       "      <th>3</th>\n",
       "      <td>60.182599</td>\n",
       "      <td>86.308552</td>\n",
       "      <td>1</td>\n",
       "    </tr>\n",
       "    <tr>\n",
       "      <th>4</th>\n",
       "      <td>79.032736</td>\n",
       "      <td>75.344376</td>\n",
       "      <td>1</td>\n",
       "    </tr>\n",
       "  </tbody>\n",
       "</table>\n",
       "</div>"
      ],
      "text/plain": [
       "      Exam 1     Exam 2  Admitted\n",
       "0  34.623660  78.024693         0\n",
       "1  30.286711  43.894998         0\n",
       "2  35.847409  72.902198         0\n",
       "3  60.182599  86.308552         1\n",
       "4  79.032736  75.344376         1"
      ]
     },
     "execution_count": 2,
     "metadata": {},
     "output_type": "execute_result"
    }
   ],
   "source": [
    "data.head()"
   ]
  },
  {
   "cell_type": "code",
   "execution_count": 3,
   "id": "09577ba4",
   "metadata": {},
   "outputs": [
    {
     "data": {
      "text/html": [
       "<div>\n",
       "<style scoped>\n",
       "    .dataframe tbody tr th:only-of-type {\n",
       "        vertical-align: middle;\n",
       "    }\n",
       "\n",
       "    .dataframe tbody tr th {\n",
       "        vertical-align: top;\n",
       "    }\n",
       "\n",
       "    .dataframe thead th {\n",
       "        text-align: right;\n",
       "    }\n",
       "</style>\n",
       "<table border=\"1\" class=\"dataframe\">\n",
       "  <thead>\n",
       "    <tr style=\"text-align: right;\">\n",
       "      <th></th>\n",
       "      <th>Exam 1</th>\n",
       "      <th>Exam 2</th>\n",
       "      <th>Admitted</th>\n",
       "    </tr>\n",
       "  </thead>\n",
       "  <tbody>\n",
       "    <tr>\n",
       "      <th>count</th>\n",
       "      <td>100.000000</td>\n",
       "      <td>100.000000</td>\n",
       "      <td>100.000000</td>\n",
       "    </tr>\n",
       "    <tr>\n",
       "      <th>mean</th>\n",
       "      <td>65.644274</td>\n",
       "      <td>66.221998</td>\n",
       "      <td>0.600000</td>\n",
       "    </tr>\n",
       "    <tr>\n",
       "      <th>std</th>\n",
       "      <td>19.458222</td>\n",
       "      <td>18.582783</td>\n",
       "      <td>0.492366</td>\n",
       "    </tr>\n",
       "    <tr>\n",
       "      <th>min</th>\n",
       "      <td>30.058822</td>\n",
       "      <td>30.603263</td>\n",
       "      <td>0.000000</td>\n",
       "    </tr>\n",
       "    <tr>\n",
       "      <th>25%</th>\n",
       "      <td>50.919511</td>\n",
       "      <td>48.179205</td>\n",
       "      <td>0.000000</td>\n",
       "    </tr>\n",
       "    <tr>\n",
       "      <th>50%</th>\n",
       "      <td>67.032988</td>\n",
       "      <td>67.682381</td>\n",
       "      <td>1.000000</td>\n",
       "    </tr>\n",
       "    <tr>\n",
       "      <th>75%</th>\n",
       "      <td>80.212529</td>\n",
       "      <td>79.360605</td>\n",
       "      <td>1.000000</td>\n",
       "    </tr>\n",
       "    <tr>\n",
       "      <th>max</th>\n",
       "      <td>99.827858</td>\n",
       "      <td>98.869436</td>\n",
       "      <td>1.000000</td>\n",
       "    </tr>\n",
       "  </tbody>\n",
       "</table>\n",
       "</div>"
      ],
      "text/plain": [
       "           Exam 1      Exam 2    Admitted\n",
       "count  100.000000  100.000000  100.000000\n",
       "mean    65.644274   66.221998    0.600000\n",
       "std     19.458222   18.582783    0.492366\n",
       "min     30.058822   30.603263    0.000000\n",
       "25%     50.919511   48.179205    0.000000\n",
       "50%     67.032988   67.682381    1.000000\n",
       "75%     80.212529   79.360605    1.000000\n",
       "max     99.827858   98.869436    1.000000"
      ]
     },
     "execution_count": 3,
     "metadata": {},
     "output_type": "execute_result"
    }
   ],
   "source": [
    "data.describe()"
   ]
  },
  {
   "cell_type": "markdown",
   "id": "0a3784ee",
   "metadata": {},
   "source": [
    "#### Ex.1. Please follow the steps below:\n"
   ]
  },
  {
   "cell_type": "markdown",
   "id": "6882aa55",
   "metadata": {},
   "source": [
    "#### -divide the data into parameters (X) and labels/classes (y)"
   ]
  },
  {
   "cell_type": "code",
   "execution_count": 4,
   "id": "fce7a97b",
   "metadata": {},
   "outputs": [],
   "source": [
    "X = data.values[:, :2].T\n",
    "y = data.values[:, 2:].T"
   ]
  },
  {
   "cell_type": "markdown",
   "id": "d171ab9b",
   "metadata": {},
   "source": [
    "#### -create theta vector"
   ]
  },
  {
   "cell_type": "code",
   "execution_count": 5,
   "id": "ca2d0502",
   "metadata": {},
   "outputs": [],
   "source": [
    "theta = np.zeros((X.shape[0]+1, 1))"
   ]
  },
  {
   "cell_type": "markdown",
   "id": "c3a95fa8",
   "metadata": {},
   "source": [
    "#### -add a row with values '1' on the top of the X matrix"
   ]
  },
  {
   "cell_type": "code",
   "execution_count": 6,
   "id": "36c56b33",
   "metadata": {},
   "outputs": [],
   "source": [
    "X = np.concatenate([np.ones([1, X.shape[1]]), X])"
   ]
  },
  {
   "cell_type": "markdown",
   "id": "c00683ef",
   "metadata": {},
   "source": [
    "#### -normalize features of X matrix"
   ]
  },
  {
   "cell_type": "code",
   "execution_count": 7,
   "id": "b94f67a6",
   "metadata": {},
   "outputs": [],
   "source": [
    "for i in range(1, X.shape[0]):\n",
    "    X[i, :] = (X[i, :] - np.mean(X[i, :])) / (np.std(X[i, :]))"
   ]
  },
  {
   "cell_type": "markdown",
   "id": "d98a8da3",
   "metadata": {},
   "source": [
    "#### Ex.2. Please plot the loaded data in the graph (using scatter plot). Can be both: a 2D plot with marks colored regarding to the class or a 3D plot with the class showed as 3rd dimension."
   ]
  },
  {
   "cell_type": "code",
   "execution_count": 8,
   "id": "02e7a773",
   "metadata": {},
   "outputs": [
    {
     "data": {
      "image/png": "[encoded data removed]",
      "text/plain": [
       "<Figure size 432x288 with 1 Axes>"
      ]
     },
     "metadata": {
      "needs_background": "light"
     },
     "output_type": "display_data"
    }
   ],
   "source": [
    "X = data[['Exam 1', 'Exam 2']]\n",
    "y = data['Admitted']\n",
    "X = np.array(X.values)\n",
    "y = np.array(y.values)\n",
    "\n",
    "X = np.append(np.ones((1, X.shape[0])), np.transpose(X), axis=0)\n",
    "plt.scatter(X[1, y == 1], X[2, y == 1], c='green', marker='+')\n",
    "plt.scatter(X[1, y == 0], X[2, y == 0], c='red', marker='*')\n",
    "plt.xlabel(\"Exam 1 score\")\n",
    "plt.ylabel(\"Exam 2 score\")\n",
    "plt.legend(['Admitted', 'Not admitted'])\n",
    "plt.show()"
   ]
  },
  {
   "cell_type": "markdown",
   "id": "dc279878",
   "metadata": {},
   "source": [
    "#### Ex.3. Please implement a logistic function (sigmoid): "
   ]
  },
  {
   "attachments": {
    "obraz.png": {
     "image/png": "[encoded data removed]"
    }
   },
   "cell_type": "markdown",
   "id": "a45262a4",
   "metadata": {},
   "source": [
    "![obraz.png](attachment:obraz.png)"
   ]
  },
  {
   "cell_type": "code",
   "execution_count": 9,
   "id": "2b42fb7b",
   "metadata": {},
   "outputs": [],
   "source": [
    "def sig(t):\n",
    "    return (1/(1 + np.exp(-t)))"
   ]
  },
  {
   "cell_type": "markdown",
   "id": "202d19e6",
   "metadata": {},
   "source": [
    "#### Ex.4. Using the function np.arange or np.linspace, please generate data from the range [-5.5], step 0.5 and check the correct operation of the implemented function by plotting it."
   ]
  },
  {
   "cell_type": "code",
   "execution_count": 10,
   "id": "250e4069",
   "metadata": {},
   "outputs": [
    {
     "data": {
      "image/png": "[encoded data removed]",
      "text/plain": [
       "<Figure size 432x288 with 1 Axes>"
      ]
     },
     "metadata": {
      "needs_background": "light"
     },
     "output_type": "display_data"
    }
   ],
   "source": [
    "test_sig = np.arange(-5, 5, 0.5)\n",
    "plt.figure()\n",
    "plt.plot(test_sig, sig(test_sig))\n",
    "plt.show()"
   ]
  },
  {
   "cell_type": "markdown",
   "id": "9e1e3bcb",
   "metadata": {},
   "source": [
    "## Cost function for logistic regression"
   ]
  },
  {
   "attachments": {
    "obraz.png": {
     "image/png": "[encoded data removed]"
    }
   },
   "cell_type": "markdown",
   "id": "b37f3d63",
   "metadata": {},
   "source": [
    "#### Ex.5. Please implement the cost function J (recommended vectorized solution):\n",
    "![obraz.png](attachment:obraz.png)"
   ]
  },
  {
   "cell_type": "code",
   "execution_count": 11,
   "id": "283ebede",
   "metadata": {},
   "outputs": [],
   "source": [
    "def cost(theta, X, y):\n",
    "    h = sig(np.dot(theta, X))\n",
    "    m = X.shape[1]\n",
    "    J = np.sum(-np.log(h)*np.transpose(y) - np.log(1 - h)*np.transpose(1-y))/m\n",
    "    return J"
   ]
  },
  {
   "cell_type": "markdown",
   "id": "a082b06f",
   "metadata": {},
   "source": [
    "#### Test the cost function"
   ]
  },
  {
   "cell_type": "code",
   "execution_count": 12,
   "id": "fcac770e",
   "metadata": {},
   "outputs": [
    {
     "name": "stdout",
     "output_type": "stream",
     "text": [
      "0.6931471805599452\n"
     ]
    }
   ],
   "source": [
    "theta = np.zeros(3)\n",
    "theta = np.matrix(theta)\n",
    "X = np.matrix(X)\n",
    "y = np.matrix(y)\n",
    "print(cost(theta, X, y))"
   ]
  },
  {
   "cell_type": "markdown",
   "id": "2881b96d",
   "metadata": {},
   "source": [
    "### Simple gradient method"
   ]
  },
  {
   "cell_type": "markdown",
   "id": "400706ce",
   "metadata": {},
   "source": [
    "#### Ex.6. Please implement simple gradient function"
   ]
  },
  {
   "cell_type": "code",
   "execution_count": 13,
   "id": "df788da6",
   "metadata": {},
   "outputs": [],
   "source": [
    "def simple_gradient(X, y, theta, alpha, it):\n",
    "    # it - number od iteration\n",
    "    cost = []\n",
    "    for i in range(it):\n",
    "        h = sig(theta.T @ X)\n",
    "        h_y = h - y\n",
    "        h_yx = h_y @ X.T\n",
    "        theta = theta - alpha * h_yx.T / X.shape[1]\n",
    "        cost = cost + [cost(X, y, theta)]\n",
    "    return theta, cost"
   ]
  },
  {
   "cell_type": "markdown",
   "id": "d39359ad",
   "metadata": {},
   "source": [
    "#### For the parameter alpha = 1 and 150 iterations, the cost function is around 0.20 and the values of θ [1.65947664], [3.8670477], [3.60347302]. Results may vary."
   ]
  },
  {
   "cell_type": "code",
   "execution_count": 14,
   "id": "21f0fd10",
   "metadata": {},
   "outputs": [
    {
     "ename": "ValueError",
     "evalue": "matmul: Input operand 1 has a mismatch in its core dimension 0, with gufunc signature (n?,k),(k,m?)->(n?,m?) (size 3 is different from 1)",
     "output_type": "error",
     "traceback": [
      "\u001b[1;31m---------------------------------------------------------------------------\u001b[0m",
      "\u001b[1;31mValueError\u001b[0m                                Traceback (most recent call last)",
      "\u001b[1;32m<ipython-input-14-d3e9b421485d>\u001b[0m in \u001b[0;36m<module>\u001b[1;34m\u001b[0m\n\u001b[0;32m      1\u001b[0m \u001b[0malpha\u001b[0m \u001b[1;33m=\u001b[0m \u001b[1;36m1\u001b[0m\u001b[1;33m\u001b[0m\u001b[1;33m\u001b[0m\u001b[0m\n\u001b[0;32m      2\u001b[0m \u001b[0mit\u001b[0m \u001b[1;33m=\u001b[0m \u001b[1;36m150\u001b[0m\u001b[1;33m\u001b[0m\u001b[1;33m\u001b[0m\u001b[0m\n\u001b[1;32m----> 3\u001b[1;33m \u001b[0mtheta\u001b[0m\u001b[1;33m,\u001b[0m \u001b[0mcost\u001b[0m \u001b[1;33m=\u001b[0m \u001b[0msimple_gradient\u001b[0m\u001b[1;33m(\u001b[0m\u001b[0mX\u001b[0m\u001b[1;33m,\u001b[0m \u001b[0my\u001b[0m\u001b[1;33m,\u001b[0m \u001b[0mtheta\u001b[0m\u001b[1;33m,\u001b[0m \u001b[0malpha\u001b[0m\u001b[1;33m,\u001b[0m \u001b[0mit\u001b[0m\u001b[1;33m)\u001b[0m\u001b[1;33m\u001b[0m\u001b[1;33m\u001b[0m\u001b[0m\n\u001b[0m",
      "\u001b[1;32m<ipython-input-13-a82f864d1cf2>\u001b[0m in \u001b[0;36msimple_gradient\u001b[1;34m(X, y, theta, alpha, it)\u001b[0m\n\u001b[0;32m      3\u001b[0m     \u001b[0mcost\u001b[0m \u001b[1;33m=\u001b[0m \u001b[1;33m[\u001b[0m\u001b[1;33m]\u001b[0m\u001b[1;33m\u001b[0m\u001b[1;33m\u001b[0m\u001b[0m\n\u001b[0;32m      4\u001b[0m     \u001b[1;32mfor\u001b[0m \u001b[0mi\u001b[0m \u001b[1;32min\u001b[0m \u001b[0mrange\u001b[0m\u001b[1;33m(\u001b[0m\u001b[0mit\u001b[0m\u001b[1;33m)\u001b[0m\u001b[1;33m:\u001b[0m\u001b[1;33m\u001b[0m\u001b[1;33m\u001b[0m\u001b[0m\n\u001b[1;32m----> 5\u001b[1;33m         \u001b[0mh\u001b[0m \u001b[1;33m=\u001b[0m \u001b[0msig\u001b[0m\u001b[1;33m(\u001b[0m\u001b[0mtheta\u001b[0m\u001b[1;33m.\u001b[0m\u001b[0mT\u001b[0m \u001b[1;33m@\u001b[0m \u001b[0mX\u001b[0m\u001b[1;33m)\u001b[0m\u001b[1;33m\u001b[0m\u001b[1;33m\u001b[0m\u001b[0m\n\u001b[0m\u001b[0;32m      6\u001b[0m         \u001b[0mh_y\u001b[0m \u001b[1;33m=\u001b[0m \u001b[0mh\u001b[0m \u001b[1;33m-\u001b[0m \u001b[0my\u001b[0m\u001b[1;33m\u001b[0m\u001b[1;33m\u001b[0m\u001b[0m\n\u001b[0;32m      7\u001b[0m         \u001b[0mh_yx\u001b[0m \u001b[1;33m=\u001b[0m \u001b[0mh_y\u001b[0m \u001b[1;33m@\u001b[0m \u001b[0mX\u001b[0m\u001b[1;33m.\u001b[0m\u001b[0mT\u001b[0m\u001b[1;33m\u001b[0m\u001b[1;33m\u001b[0m\u001b[0m\n",
      "\u001b[1;31mValueError\u001b[0m: matmul: Input operand 1 has a mismatch in its core dimension 0, with gufunc signature (n?,k),(k,m?)->(n?,m?) (size 3 is different from 1)"
     ]
    }
   ],
   "source": [
    "alpha = 1\n",
    "it = 150\n",
    "theta, cost = simple_gradient(X, y, theta, alpha, it)"
   ]
  },
  {
   "cell_type": "markdown",
   "id": "b9b0913a",
   "metadata": {},
   "source": [
    "#### Ex.7. Please present the accuracy of the algorithm performance. Prediction values will be in the range [0; 1]. Threshold value = 0.5."
   ]
  },
  {
   "cell_type": "code",
   "execution_count": null,
   "id": "ff252e18",
   "metadata": {},
   "outputs": [],
   "source": []
  },
  {
   "cell_type": "markdown",
   "id": "1c92626b",
   "metadata": {},
   "source": [
    "#### Ex.8.Please plot the decision boundary (as a line x2=mx1+c) on the data plot. If you have normalized your data you should use normalized data as background."
   ]
  },
  {
   "cell_type": "code",
   "execution_count": null,
   "id": "8092517e",
   "metadata": {},
   "outputs": [],
   "source": [
    "x1 = np.arange(-2.0, 2.0, 0.1)\n",
    "x2 = -theta[0, 0]/theta[2, 0] - theta[1, 0]/theta[2, 0] * x1\n",
    "plt.figure()\n",
    "plt.plot(x1, x2)\n",
    "X1_1 = X[1, y[0, :] == 1.0]\n",
    "X2_1 = X[2, y[0, :] == 1.0]\n",
    "X1_0 = X[1, y[0, :] == 0.0]\n",
    "X2_0 = X[2, y[0, :] == 0.0]\n",
    "plt.plot(X1_1, X2_1, 'o')\n",
    "plt.plot(X1_0, X2_0, 'x')\n",
    "plt.show()"
   ]
  },
  {
   "cell_type": "markdown",
   "id": "0e842e6c",
   "metadata": {},
   "source": [
    "### Logistic regression - Python"
   ]
  },
  {
   "cell_type": "markdown",
   "id": "e920f983",
   "metadata": {},
   "source": [
    "### Multi-class logistic regression"
   ]
  },
  {
   "cell_type": "code",
   "execution_count": 42,
   "id": "91ca5dbd",
   "metadata": {},
   "outputs": [],
   "source": [
    "import numpy as np\n",
    "import matplotlib.pyplot as plt\n",
    "from sklearn.linear_model import LogisticRegression\n",
    "from sklearn import datasets\n",
    " \n",
    "iris = datasets.load_iris()\n",
    "X = iris.data[:, :2]  # we are analyzing only 2 parameters\n",
    "Y = iris.target\n",
    "#X = (X - X.mean()) / X.std()"
   ]
  },
  {
   "cell_type": "markdown",
   "id": "0526b199",
   "metadata": {},
   "source": [
    "#### Ex.1. Get yourself familiar with the object sklearn.linear_model.LogisticRegression and choose appropriate optimalization algorithm, regularization coefficient and create a regression model."
   ]
  },
  {
   "cell_type": "code",
   "execution_count": 43,
   "id": "c4500c27",
   "metadata": {},
   "outputs": [
    {
     "data": {
      "text/plain": [
       "LogisticRegression(C=1, multi_class='multinomial', solver='newton-cg')"
      ]
     },
     "execution_count": 43,
     "metadata": {},
     "output_type": "execute_result"
    }
   ],
   "source": [
    "logreg = LogisticRegression(C=1, solver='newton-cg', multi_class='multinomial')\n",
    "logreg.fit(X, Y)"
   ]
  },
  {
   "cell_type": "markdown",
   "id": "85683159",
   "metadata": {},
   "source": [
    "#### Ex.2. Create an instance and fit the data using fit method. Code below allows you to display the shape of decision regions:"
   ]
  },
  {
   "cell_type": "code",
   "execution_count": 44,
   "id": "6815a334",
   "metadata": {},
   "outputs": [
    {
     "name": "stderr",
     "output_type": "stream",
     "text": [
      "<ipython-input-44-6ce695cc2a51>:12: MatplotlibDeprecationWarning: shading='flat' when X and Y have the same dimensions as C is deprecated since 3.3.  Either specify the corners of the quadrilaterals with X and Y, or pass shading='auto', 'nearest' or 'gouraud', or set rcParams['pcolor.shading'].  This will become an error two minor releases later.\n",
      "  plt.pcolormesh(xx, yy, Z, cmap=plt.cm.Paired)\n"
     ]
    },
    {
     "data": {
      "image/png": "[encoded data removed]",
      "text/plain": [
       "<Figure size 576x432 with 1 Axes>"
      ]
     },
     "metadata": {},
     "output_type": "display_data"
    }
   ],
   "source": [
    "# Plot the decision boundary. For that, we will assign a color to each\n",
    "# point in the mesh [x_min, x_max]x[y_min, y_max].\n",
    "x_min, x_max = X[:, 0].min() - .5, X[:, 0].max() + .5\n",
    "y_min, y_max = X[:, 1].min() - .5, X[:, 1].max() + .5\n",
    "h = .02  # step size in the mesh\n",
    "xx, yy = np.meshgrid(np.arange(x_min, x_max, h), np.arange(y_min, y_max, h))\n",
    "Z = logreg.predict(np.c_[xx.ravel(), yy.ravel()])\n",
    " \n",
    "# Put the result into a color plot\n",
    "Z = Z.reshape(xx.shape)\n",
    "plt.figure(1, figsize=(8, 6))\n",
    "plt.pcolormesh(xx, yy, Z, cmap=plt.cm.Paired)\n",
    " \n",
    "# Plot also the training points\n",
    "plt.scatter(X[:, 0], X[:, 1], c=Y, edgecolors='k', cmap=plt.cm.Paired)\n",
    "plt.xlabel('Sepal length')\n",
    "plt.ylabel('Sepal width')\n",
    " \n",
    "plt.xlim(xx.min(), xx.max())\n",
    "plt.ylim(yy.min(), yy.max())\n",
    "plt.xticks(())\n",
    "plt.yticks(())\n",
    " \n",
    "plt.show()"
   ]
  },
  {
   "cell_type": "markdown",
   "id": "2d40b68d",
   "metadata": {},
   "source": [
    "#### Ex.3. Using method predict_proba please predict the probability of being a member of a given class."
   ]
  },
  {
   "cell_type": "code",
   "execution_count": 36,
   "id": "8b6d4a42",
   "metadata": {},
   "outputs": [
    {
     "data": {
      "text/plain": [
       "(array([[5.72028878, 0.47108261, 0.33648758, 0.20189255, 0.        ,\n",
       "         0.06729752, 0.        , 0.40378509, 0.67297515, 2.220818  ],\n",
       "        [2.62460309, 1.3459503 , 0.94216521, 1.14405776, 0.74027267,\n",
       "         1.41324782, 1.07676024, 0.67297515, 0.13459503, 0.        ],\n",
       "        [3.5667683 , 0.60567764, 1.00946273, 0.74027267, 0.94216521,\n",
       "         0.8748677 , 0.74027267, 0.74027267, 0.53838012, 0.33648758]]),\n",
       " array([1.05427832e-05, 9.90731405e-02, 1.98135738e-01, 2.97198336e-01,\n",
       "        3.96260934e-01, 4.95323532e-01, 5.94386129e-01, 6.93448727e-01,\n",
       "        7.92511325e-01, 8.91573923e-01, 9.90636520e-01]),\n",
       " <a list of 3 BarContainer objects>)"
      ]
     },
     "execution_count": 36,
     "metadata": {},
     "output_type": "execute_result"
    },
    {
     "data": {
      "image/png": "[encoded data removed]",
      "text/plain": [
       "<Figure size 432x288 with 1 Axes>"
      ]
     },
     "metadata": {
      "needs_background": "light"
     },
     "output_type": "display_data"
    }
   ],
   "source": [
    "plt.figure()\n",
    "plt.hist(logreg.predict_proba(X), density=True)"
   ]
  },
  {
   "cell_type": "markdown",
   "id": "b558ec85",
   "metadata": {},
   "source": [
    "#### Ex.4. Evaluation - please assess the accuracy of the algorithms using a variety of metrics (at least 2)"
   ]
  },
  {
   "cell_type": "code",
   "execution_count": 41,
   "id": "df55c388",
   "metadata": {},
   "outputs": [
    {
     "name": "stdout",
     "output_type": "stream",
     "text": [
      "MSE: 0.18\n",
      "R2: 0.73\n"
     ]
    }
   ],
   "source": [
    "Z = logreg.predict(X)\n",
    "MSE = mean_squared_error(Y, Z)\n",
    "r2 = r2_score(Y, Z)\n",
    "print(f'MSE: {MSE}')\n",
    "print(f'R2: {r2}')"
   ]
  }
 ],
 "metadata": {
  "kernelspec": {
   "display_name": "Python 3",
   "language": "python",
   "name": "python3"
  },
  "language_info": {
   "codemirror_mode": {
    "name": "ipython",
    "version": 3
   },
   "file_extension": ".py",
   "mimetype": "text/x-python",
   "name": "python",
   "nbconvert_exporter": "python",
   "pygments_lexer": "ipython3",
   "version": "3.8.8"
  }
 },
 "nbformat": 4,
 "nbformat_minor": 5
}
