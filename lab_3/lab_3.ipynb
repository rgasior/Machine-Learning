{
 "cells": [
  {
   "cell_type": "markdown",
   "id": "ce3efe33",
   "metadata": {},
   "source": [
    "### Import libraries"
   ]
  },
  {
   "cell_type": "code",
   "execution_count": 218,
   "id": "3f107568",
   "metadata": {},
   "outputs": [],
   "source": [
    "import numpy as np\n",
    "import pandas as pd\n",
    "import matplotlib.pyplot as plt\n",
    "from math import e\n",
    "from sklearn.metrics import mean_squared_error\n",
    "from sklearn.metrics import r2_score\n",
    "from sklearn.metrics import accuracy_score\n",
    "\n",
    "import os\n",
    "path = os.getcwd() + '/ex2data1.txt'\n",
    "data = pd.read_csv(path, header=None, names=['Exam 1', 'Exam 2', 'Admitted'])"
   ]
  },
  {
   "cell_type": "markdown",
   "id": "ede37c30",
   "metadata": {},
   "source": [
    "#### Ex.0. Please get yourself familiar with the data"
   ]
  },
  {
   "cell_type": "code",
   "execution_count": 219,
   "id": "99774146",
   "metadata": {},
   "outputs": [
    {
     "data": {
      "text/html": [
       "<div>\n",
       "<style scoped>\n",
       "    .dataframe tbody tr th:only-of-type {\n",
       "        vertical-align: middle;\n",
       "    }\n",
       "\n",
       "    .dataframe tbody tr th {\n",
       "        vertical-align: top;\n",
       "    }\n",
       "\n",
       "    .dataframe thead th {\n",
       "        text-align: right;\n",
       "    }\n",
       "</style>\n",
       "<table border=\"1\" class=\"dataframe\">\n",
       "  <thead>\n",
       "    <tr style=\"text-align: right;\">\n",
       "      <th></th>\n",
       "      <th>Exam 1</th>\n",
       "      <th>Exam 2</th>\n",
       "      <th>Admitted</th>\n",
       "    </tr>\n",
       "  </thead>\n",
       "  <tbody>\n",
       "    <tr>\n",
       "      <th>0</th>\n",
       "      <td>34.623660</td>\n",
       "      <td>78.024693</td>\n",
       "      <td>0</td>\n",
       "    </tr>\n",
       "    <tr>\n",
       "      <th>1</th>\n",
       "      <td>30.286711</td>\n",
       "      <td>43.894998</td>\n",
       "      <td>0</td>\n",
       "    </tr>\n",
       "    <tr>\n",
       "      <th>2</th>\n",
       "      <td>35.847409</td>\n",
       "      <td>72.902198</td>\n",
       "      <td>0</td>\n",
       "    </tr>\n",
       "    <tr>\n",
       "      <th>3</th>\n",
       "      <td>60.182599</td>\n",
       "      <td>86.308552</td>\n",
       "      <td>1</td>\n",
       "    </tr>\n",
       "    <tr>\n",
       "      <th>4</th>\n",
       "      <td>79.032736</td>\n",
       "      <td>75.344376</td>\n",
       "      <td>1</td>\n",
       "    </tr>\n",
       "  </tbody>\n",
       "</table>\n",
       "</div>"
      ],
      "text/plain": [
       "      Exam 1     Exam 2  Admitted\n",
       "0  34.623660  78.024693         0\n",
       "1  30.286711  43.894998         0\n",
       "2  35.847409  72.902198         0\n",
       "3  60.182599  86.308552         1\n",
       "4  79.032736  75.344376         1"
      ]
     },
     "execution_count": 219,
     "metadata": {},
     "output_type": "execute_result"
    }
   ],
   "source": [
    "data.head()"
   ]
  },
  {
   "cell_type": "code",
   "execution_count": 220,
   "id": "09577ba4",
   "metadata": {},
   "outputs": [
    {
     "data": {
      "text/html": [
       "<div>\n",
       "<style scoped>\n",
       "    .dataframe tbody tr th:only-of-type {\n",
       "        vertical-align: middle;\n",
       "    }\n",
       "\n",
       "    .dataframe tbody tr th {\n",
       "        vertical-align: top;\n",
       "    }\n",
       "\n",
       "    .dataframe thead th {\n",
       "        text-align: right;\n",
       "    }\n",
       "</style>\n",
       "<table border=\"1\" class=\"dataframe\">\n",
       "  <thead>\n",
       "    <tr style=\"text-align: right;\">\n",
       "      <th></th>\n",
       "      <th>Exam 1</th>\n",
       "      <th>Exam 2</th>\n",
       "      <th>Admitted</th>\n",
       "    </tr>\n",
       "  </thead>\n",
       "  <tbody>\n",
       "    <tr>\n",
       "      <th>count</th>\n",
       "      <td>100.000000</td>\n",
       "      <td>100.000000</td>\n",
       "      <td>100.000000</td>\n",
       "    </tr>\n",
       "    <tr>\n",
       "      <th>mean</th>\n",
       "      <td>65.644274</td>\n",
       "      <td>66.221998</td>\n",
       "      <td>0.600000</td>\n",
       "    </tr>\n",
       "    <tr>\n",
       "      <th>std</th>\n",
       "      <td>19.458222</td>\n",
       "      <td>18.582783</td>\n",
       "      <td>0.492366</td>\n",
       "    </tr>\n",
       "    <tr>\n",
       "      <th>min</th>\n",
       "      <td>30.058822</td>\n",
       "      <td>30.603263</td>\n",
       "      <td>0.000000</td>\n",
       "    </tr>\n",
       "    <tr>\n",
       "      <th>25%</th>\n",
       "      <td>50.919511</td>\n",
       "      <td>48.179205</td>\n",
       "      <td>0.000000</td>\n",
       "    </tr>\n",
       "    <tr>\n",
       "      <th>50%</th>\n",
       "      <td>67.032988</td>\n",
       "      <td>67.682381</td>\n",
       "      <td>1.000000</td>\n",
       "    </tr>\n",
       "    <tr>\n",
       "      <th>75%</th>\n",
       "      <td>80.212529</td>\n",
       "      <td>79.360605</td>\n",
       "      <td>1.000000</td>\n",
       "    </tr>\n",
       "    <tr>\n",
       "      <th>max</th>\n",
       "      <td>99.827858</td>\n",
       "      <td>98.869436</td>\n",
       "      <td>1.000000</td>\n",
       "    </tr>\n",
       "  </tbody>\n",
       "</table>\n",
       "</div>"
      ],
      "text/plain": [
       "           Exam 1      Exam 2    Admitted\n",
       "count  100.000000  100.000000  100.000000\n",
       "mean    65.644274   66.221998    0.600000\n",
       "std     19.458222   18.582783    0.492366\n",
       "min     30.058822   30.603263    0.000000\n",
       "25%     50.919511   48.179205    0.000000\n",
       "50%     67.032988   67.682381    1.000000\n",
       "75%     80.212529   79.360605    1.000000\n",
       "max     99.827858   98.869436    1.000000"
      ]
     },
     "execution_count": 220,
     "metadata": {},
     "output_type": "execute_result"
    }
   ],
   "source": [
    "data.describe()"
   ]
  },
  {
   "cell_type": "markdown",
   "id": "0a3784ee",
   "metadata": {},
   "source": [
    "#### Ex.1. Please follow the steps below:\n"
   ]
  },
  {
   "cell_type": "markdown",
   "id": "6882aa55",
   "metadata": {},
   "source": [
    "#### -divide the data into parameters (X) and labels/classes (y)"
   ]
  },
  {
   "cell_type": "code",
   "execution_count": 221,
   "id": "fce7a97b",
   "metadata": {},
   "outputs": [],
   "source": [
    "X = data.values[:, :2].T\n",
    "y = data.values[:, 2:].T"
   ]
  },
  {
   "cell_type": "markdown",
   "id": "d171ab9b",
   "metadata": {},
   "source": [
    "#### -create theta vector"
   ]
  },
  {
   "cell_type": "code",
   "execution_count": 222,
   "id": "ca2d0502",
   "metadata": {},
   "outputs": [],
   "source": [
    "theta = np.zeros((X.shape[0]+1, 1))"
   ]
  },
  {
   "cell_type": "markdown",
   "id": "c3a95fa8",
   "metadata": {},
   "source": [
    "#### -add a row with values '1' on the top of the X matrix"
   ]
  },
  {
   "cell_type": "code",
   "execution_count": 223,
   "id": "36c56b33",
   "metadata": {},
   "outputs": [
    {
     "data": {
      "text/html": [
       "<div>\n",
       "<style scoped>\n",
       "    .dataframe tbody tr th:only-of-type {\n",
       "        vertical-align: middle;\n",
       "    }\n",
       "\n",
       "    .dataframe tbody tr th {\n",
       "        vertical-align: top;\n",
       "    }\n",
       "\n",
       "    .dataframe thead th {\n",
       "        text-align: right;\n",
       "    }\n",
       "</style>\n",
       "<table border=\"1\" class=\"dataframe\">\n",
       "  <thead>\n",
       "    <tr style=\"text-align: right;\">\n",
       "      <th></th>\n",
       "      <th>Exam 1</th>\n",
       "      <th>Exam 2</th>\n",
       "      <th>Admitted</th>\n",
       "    </tr>\n",
       "  </thead>\n",
       "  <tbody>\n",
       "    <tr>\n",
       "      <th>0</th>\n",
       "      <td>34.623660</td>\n",
       "      <td>78.024693</td>\n",
       "      <td>0</td>\n",
       "    </tr>\n",
       "    <tr>\n",
       "      <th>1</th>\n",
       "      <td>30.286711</td>\n",
       "      <td>43.894998</td>\n",
       "      <td>0</td>\n",
       "    </tr>\n",
       "    <tr>\n",
       "      <th>2</th>\n",
       "      <td>35.847409</td>\n",
       "      <td>72.902198</td>\n",
       "      <td>0</td>\n",
       "    </tr>\n",
       "    <tr>\n",
       "      <th>3</th>\n",
       "      <td>60.182599</td>\n",
       "      <td>86.308552</td>\n",
       "      <td>1</td>\n",
       "    </tr>\n",
       "    <tr>\n",
       "      <th>4</th>\n",
       "      <td>79.032736</td>\n",
       "      <td>75.344376</td>\n",
       "      <td>1</td>\n",
       "    </tr>\n",
       "    <tr>\n",
       "      <th>...</th>\n",
       "      <td>...</td>\n",
       "      <td>...</td>\n",
       "      <td>...</td>\n",
       "    </tr>\n",
       "    <tr>\n",
       "      <th>95</th>\n",
       "      <td>83.489163</td>\n",
       "      <td>48.380286</td>\n",
       "      <td>1</td>\n",
       "    </tr>\n",
       "    <tr>\n",
       "      <th>96</th>\n",
       "      <td>42.261701</td>\n",
       "      <td>87.103851</td>\n",
       "      <td>1</td>\n",
       "    </tr>\n",
       "    <tr>\n",
       "      <th>97</th>\n",
       "      <td>99.315009</td>\n",
       "      <td>68.775409</td>\n",
       "      <td>1</td>\n",
       "    </tr>\n",
       "    <tr>\n",
       "      <th>98</th>\n",
       "      <td>55.340018</td>\n",
       "      <td>64.931938</td>\n",
       "      <td>1</td>\n",
       "    </tr>\n",
       "    <tr>\n",
       "      <th>99</th>\n",
       "      <td>74.775893</td>\n",
       "      <td>89.529813</td>\n",
       "      <td>1</td>\n",
       "    </tr>\n",
       "  </tbody>\n",
       "</table>\n",
       "<p>100 rows × 3 columns</p>\n",
       "</div>"
      ],
      "text/plain": [
       "       Exam 1     Exam 2  Admitted\n",
       "0   34.623660  78.024693         0\n",
       "1   30.286711  43.894998         0\n",
       "2   35.847409  72.902198         0\n",
       "3   60.182599  86.308552         1\n",
       "4   79.032736  75.344376         1\n",
       "..        ...        ...       ...\n",
       "95  83.489163  48.380286         1\n",
       "96  42.261701  87.103851         1\n",
       "97  99.315009  68.775409         1\n",
       "98  55.340018  64.931938         1\n",
       "99  74.775893  89.529813         1\n",
       "\n",
       "[100 rows x 3 columns]"
      ]
     },
     "execution_count": 223,
     "metadata": {},
     "output_type": "execute_result"
    }
   ],
   "source": [
    "X = np.concatenate([np.ones([1, X.shape[1]]), X])\n",
    "data"
   ]
  },
  {
   "cell_type": "markdown",
   "id": "c00683ef",
   "metadata": {},
   "source": [
    "#### -normalize features of X matrix"
   ]
  },
  {
   "cell_type": "code",
   "execution_count": 224,
   "id": "b94f67a6",
   "metadata": {},
   "outputs": [],
   "source": [
    "for i in range(1, X.shape[0]):\n",
    "    X[i, :] = (X[i, :] - np.mean(X[i, :])) / (np.std(X[i, :]))"
   ]
  },
  {
   "cell_type": "markdown",
   "id": "d98a8da3",
   "metadata": {},
   "source": [
    "#### Ex.2. Please plot the loaded data in the graph (using scatter plot). Can be both: a 2D plot with marks colored regarding to the class or a 3D plot with the class showed as 3rd dimension."
   ]
  },
  {
   "cell_type": "code",
   "execution_count": 225,
   "id": "02e7a773",
   "metadata": {},
   "outputs": [
    {
     "data": {
      "image/png": "[encoded data removed]",
      "text/plain": [
       "<Figure size 720x576 with 1 Axes>"
      ]
     },
     "metadata": {
      "needs_background": "light"
     },
     "output_type": "display_data"
    }
   ],
   "source": [
    "plt.figure(figsize=(10, 8))\n",
    "plt.scatter(data.loc[data[\"Admitted\"] == 1][\"Exam 1\"], data.loc[data[\"Admitted\"] == 1][\"Exam 2\"], color=\"g\", marker=\"+\",)\n",
    "plt.scatter(data.loc[data[\"Admitted\"] == 0][\"Exam 1\"], data.loc[data[\"Admitted\"] == 0][\"Exam 2\"], color=\"r\", marker=\"*\",)\n",
    "plt.legend([\"Admitted\", \"Not admitted\"])\n",
    "plt.xlabel(\"Exam 1 score\")\n",
    "plt.ylabel(\"Exam 2 score\")\n",
    "plt.grid()\n",
    "plt.show()"
   ]
  },
  {
   "cell_type": "markdown",
   "id": "dc279878",
   "metadata": {},
   "source": [
    "#### Ex.3. Please implement a logistic function (sigmoid): "
   ]
  },
  {
   "attachments": {
    "obraz.png": {
     "image/png": "[encoded data removed]"
    }
   },
   "cell_type": "markdown",
   "id": "a45262a4",
   "metadata": {},
   "source": [
    "![obraz.png](attachment:obraz.png)"
   ]
  },
  {
   "cell_type": "code",
   "execution_count": 226,
   "id": "671dd300",
   "metadata": {},
   "outputs": [],
   "source": [
    "def sig(t):\n",
    "    return 1.0 / (1.0 + np.exp(-t))\n",
    "\n",
    "\n",
    "def h(X, theta):\n",
    "    return theta.T@X"
   ]
  },
  {
   "cell_type": "markdown",
   "id": "202d19e6",
   "metadata": {},
   "source": [
    "#### Ex.4. Using the function np.arange or np.linspace, please generate data from the range [-5.5], step 0.5 and check the correct operation of the implemented function by plotting it."
   ]
  },
  {
   "cell_type": "code",
   "execution_count": 227,
   "id": "250e4069",
   "metadata": {},
   "outputs": [
    {
     "data": {
      "image/png": "[encoded data removed]",
      "text/plain": [
       "<Figure size 432x288 with 1 Axes>"
      ]
     },
     "metadata": {
      "needs_background": "light"
     },
     "output_type": "display_data"
    }
   ],
   "source": [
    "test_sig = np.arange(-5, 5, 0.5)\n",
    "plt.figure()\n",
    "plt.plot(test_sig, sig(test_sig))\n",
    "plt.show()"
   ]
  },
  {
   "cell_type": "markdown",
   "id": "9e1e3bcb",
   "metadata": {},
   "source": [
    "## Cost function for logistic regression"
   ]
  },
  {
   "attachments": {
    "obraz.png": {
     "image/png": "[encoded data removed]"
    }
   },
   "cell_type": "markdown",
   "id": "b37f3d63",
   "metadata": {},
   "source": [
    "#### Ex.5. Please implement the cost function J (recommended vectorized solution):\n",
    "![obraz.png](attachment:obraz.png)"
   ]
  },
  {
   "cell_type": "code",
   "execution_count": 228,
   "id": "9869ce27",
   "metadata": {},
   "outputs": [],
   "source": [
    "def computeCost(theta, X, y):\n",
    "    m = X.shape[1]\n",
    "    y_1 = -y @ np.log(sig(h(X, theta))).T\n",
    "    y_0 = (1 - y) @ np.log(1 - sig(h(X, theta))).T\n",
    "    return ((y_1 - y_0) / m)[0,0]"
   ]
  },
  {
   "cell_type": "markdown",
   "id": "a082b06f",
   "metadata": {},
   "source": [
    "#### Test the cost function"
   ]
  },
  {
   "cell_type": "code",
   "execution_count": 229,
   "id": "913d2d3b",
   "metadata": {},
   "outputs": [
    {
     "data": {
      "text/plain": [
       "0.6931471805599452"
      ]
     },
     "execution_count": 229,
     "metadata": {},
     "output_type": "execute_result"
    }
   ],
   "source": [
    "theta = np.zeros((X.shape[0], 1))\n",
    "computeCost(theta, X, y)"
   ]
  },
  {
   "cell_type": "markdown",
   "id": "2881b96d",
   "metadata": {},
   "source": [
    "### Simple gradient method"
   ]
  },
  {
   "cell_type": "markdown",
   "id": "400706ce",
   "metadata": {},
   "source": [
    "#### Ex.6. Please implement simple gradient function"
   ]
  },
  {
   "cell_type": "code",
   "execution_count": 230,
   "id": "a9fa05a7",
   "metadata": {},
   "outputs": [],
   "source": [
    "def simple_gradient(X, y, theta, alpha, it):\n",
    "    m = X.shape[1]\n",
    "    cost = []\n",
    "    for i in range(it):\n",
    "        for j in range(theta.shape[0]):\n",
    "            theta[j, 0] = theta[j, 0] - alpha / m * ((sig(h(X, theta)) - y) @ np.matrix(X[j, :]).T)\n",
    "        cost.append(computeCost(theta, X, y))\n",
    "    return theta, cost"
   ]
  },
  {
   "cell_type": "markdown",
   "id": "d39359ad",
   "metadata": {},
   "source": [
    "#### For the parameter alpha = 1 and 150 iterations, the cost function is around 0.20 and the values of θ [1.65947664], [3.8670477], [3.60347302]. Results may vary."
   ]
  },
  {
   "cell_type": "code",
   "execution_count": 231,
   "id": "4bab1fe0",
   "metadata": {},
   "outputs": [
    {
     "name": "stdout",
     "output_type": "stream",
     "text": [
      "theta: [[1.42929788]\n",
      " [3.38040725]\n",
      " [3.13521188]]\n",
      "cost after optimization: 0.20619425502972777\n"
     ]
    }
   ],
   "source": [
    "theta = np.zeros((X.shape[0], 1))\n",
    "theta, cost = simple_gradient(X, y, theta, 1, 150)\n",
    "print(f'theta: {theta}')\n",
    "print(f'cost after optimization: {cost[-1]}')"
   ]
  },
  {
   "cell_type": "markdown",
   "id": "b9b0913a",
   "metadata": {},
   "source": [
    "#### Ex.7. Please present the accuracy of the algorithm performance. Prediction values will be in the range [0; 1]. Threshold value = 0.5."
   ]
  },
  {
   "cell_type": "code",
   "execution_count": 232,
   "id": "ff252e18",
   "metadata": {},
   "outputs": [
    {
     "name": "stdout",
     "output_type": "stream",
     "text": [
      "accuracy = 0.89\n"
     ]
    }
   ],
   "source": [
    "preds = np.round(sig(theta.T @ X))\n",
    "correct = (preds == y).astype(int).sum()\n",
    "acc = correct / X.shape[1]\n",
    "print(f'accuracy = {acc}')"
   ]
  },
  {
   "cell_type": "markdown",
   "id": "1c92626b",
   "metadata": {},
   "source": [
    "#### Ex.8.Please plot the decision boundary (as a line x2=mx1+c) on the data plot. If you have normalized your data you should use normalized data as background."
   ]
  },
  {
   "cell_type": "code",
   "execution_count": 233,
   "id": "8092517e",
   "metadata": {},
   "outputs": [
    {
     "data": {
      "image/png": "[encoded data removed]",
      "text/plain": [
       "<Figure size 432x288 with 1 Axes>"
      ]
     },
     "metadata": {
      "needs_background": "light"
     },
     "output_type": "display_data"
    }
   ],
   "source": [
    "x1 = np.arange(-2.0, 2.0, 0.1)\n",
    "x2 = -theta[0, 0]/theta[2, 0] - theta[1, 0]/theta[2, 0] * x1\n",
    "plt.figure()\n",
    "plt.plot(x1, x2)\n",
    "X1_1 = X[1, y[0, :] == 1.0]\n",
    "X2_1 = X[2, y[0, :] == 1.0]\n",
    "X1_0 = X[1, y[0, :] == 0.0]\n",
    "X2_0 = X[2, y[0, :] == 0.0]\n",
    "\n",
    "plt.plot(X1_1, X2_1,'g+', label=\"Admitted\")\n",
    "plt.plot(X1_0, X2_0,'r*', label=\"Not admitted\")\n",
    "plt.legend()\n",
    "plt.xlabel(\"Exam 1 score\")\n",
    "plt.ylabel(\"Exam 2 score\")\n",
    "plt.grid()\n",
    "plt.show()"
   ]
  },
  {
   "cell_type": "markdown",
   "id": "0e842e6c",
   "metadata": {},
   "source": [
    "### Logistic regression - Python"
   ]
  },
  {
   "cell_type": "markdown",
   "id": "e920f983",
   "metadata": {},
   "source": [
    "### Multi-class logistic regression"
   ]
  },
  {
   "cell_type": "code",
   "execution_count": 234,
   "id": "91ca5dbd",
   "metadata": {},
   "outputs": [],
   "source": [
    "import numpy as np\n",
    "import matplotlib.pyplot as plt\n",
    "from sklearn.linear_model import LogisticRegression\n",
    "from sklearn import datasets\n",
    " \n",
    "iris = datasets.load_iris()\n",
    "X = iris.data[:, :2]  # we are analyzing only 2 parameters\n",
    "Y = iris.target"
   ]
  },
  {
   "cell_type": "markdown",
   "id": "0526b199",
   "metadata": {},
   "source": [
    "#### Ex.1. Get yourself familiar with the object sklearn.linear_model.LogisticRegression and choose appropriate optimalization algorithm, regularization coefficient and create a regression model."
   ]
  },
  {
   "cell_type": "code",
   "execution_count": 235,
   "id": "c4500c27",
   "metadata": {},
   "outputs": [
    {
     "data": {
      "text/plain": [
       "LogisticRegression(C=1, multi_class='multinomial', solver='newton-cg')"
      ]
     },
     "execution_count": 235,
     "metadata": {},
     "output_type": "execute_result"
    }
   ],
   "source": [
    "logreg = LogisticRegression(C=1, solver='newton-cg', multi_class='multinomial')\n",
    "logreg.fit(X, Y)"
   ]
  },
  {
   "cell_type": "markdown",
   "id": "85683159",
   "metadata": {},
   "source": [
    "#### Ex.2. Create an instance and fit the data using fit method. Code below allows you to display the shape of decision regions:"
   ]
  },
  {
   "cell_type": "code",
   "execution_count": 236,
   "id": "6815a334",
   "metadata": {},
   "outputs": [
    {
     "name": "stderr",
     "output_type": "stream",
     "text": [
      "<ipython-input-236-6ce695cc2a51>:12: MatplotlibDeprecationWarning: shading='flat' when X and Y have the same dimensions as C is deprecated since 3.3.  Either specify the corners of the quadrilaterals with X and Y, or pass shading='auto', 'nearest' or 'gouraud', or set rcParams['pcolor.shading'].  This will become an error two minor releases later.\n",
      "  plt.pcolormesh(xx, yy, Z, cmap=plt.cm.Paired)\n"
     ]
    },
    {
     "data": {
      "image/png": "[encoded data removed]",
      "text/plain": [
       "<Figure size 576x432 with 1 Axes>"
      ]
     },
     "metadata": {},
     "output_type": "display_data"
    }
   ],
   "source": [
    "# Plot the decision boundary. For that, we will assign a color to each\n",
    "# point in the mesh [x_min, x_max]x[y_min, y_max].\n",
    "x_min, x_max = X[:, 0].min() - .5, X[:, 0].max() + .5\n",
    "y_min, y_max = X[:, 1].min() - .5, X[:, 1].max() + .5\n",
    "h = .02  # step size in the mesh\n",
    "xx, yy = np.meshgrid(np.arange(x_min, x_max, h), np.arange(y_min, y_max, h))\n",
    "Z = logreg.predict(np.c_[xx.ravel(), yy.ravel()])\n",
    " \n",
    "# Put the result into a color plot\n",
    "Z = Z.reshape(xx.shape)\n",
    "plt.figure(1, figsize=(8, 6))\n",
    "plt.pcolormesh(xx, yy, Z, cmap=plt.cm.Paired)\n",
    " \n",
    "# Plot also the training points\n",
    "plt.scatter(X[:, 0], X[:, 1], c=Y, edgecolors='k', cmap=plt.cm.Paired)\n",
    "plt.xlabel('Sepal length')\n",
    "plt.ylabel('Sepal width')\n",
    " \n",
    "plt.xlim(xx.min(), xx.max())\n",
    "plt.ylim(yy.min(), yy.max())\n",
    "plt.xticks(())\n",
    "plt.yticks(())\n",
    " \n",
    "plt.show()"
   ]
  },
  {
   "cell_type": "markdown",
   "id": "2d40b68d",
   "metadata": {},
   "source": [
    "#### Ex.3. Using method predict_proba please predict the probability of being a member of a given class."
   ]
  },
  {
   "cell_type": "code",
   "execution_count": 237,
   "id": "8b6d4a42",
   "metadata": {},
   "outputs": [
    {
     "data": {
      "text/plain": [
       "(array([[5.72028878, 0.47108261, 0.33648758, 0.20189255, 0.        ,\n",
       "         0.06729752, 0.        , 0.40378509, 0.67297515, 2.220818  ],\n",
       "        [2.62460309, 1.3459503 , 0.94216521, 1.14405776, 0.74027267,\n",
       "         1.41324782, 1.07676024, 0.67297515, 0.13459503, 0.        ],\n",
       "        [3.5667683 , 0.60567764, 1.00946273, 0.74027267, 0.94216521,\n",
       "         0.8748677 , 0.74027267, 0.74027267, 0.53838012, 0.33648758]]),\n",
       " array([1.05427832e-05, 9.90731405e-02, 1.98135738e-01, 2.97198336e-01,\n",
       "        3.96260934e-01, 4.95323532e-01, 5.94386129e-01, 6.93448727e-01,\n",
       "        7.92511325e-01, 8.91573923e-01, 9.90636520e-01]),\n",
       " <a list of 3 BarContainer objects>)"
      ]
     },
     "execution_count": 237,
     "metadata": {},
     "output_type": "execute_result"
    },
    {
     "data": {
      "image/png": "[encoded data removed]",
      "text/plain": [
       "<Figure size 432x288 with 1 Axes>"
      ]
     },
     "metadata": {
      "needs_background": "light"
     },
     "output_type": "display_data"
    }
   ],
   "source": [
    "plt.figure()\n",
    "plt.hist(logreg.predict_proba(X), density=True)"
   ]
  },
  {
   "cell_type": "code",
   "execution_count": 238,
   "id": "7d7171c9",
   "metadata": {},
   "outputs": [
    {
     "data": {
      "text/plain": [
       "0.82"
      ]
     },
     "execution_count": 238,
     "metadata": {},
     "output_type": "execute_result"
    }
   ],
   "source": [
    "logreg.score(X, Y)"
   ]
  },
  {
   "cell_type": "markdown",
   "id": "b558ec85",
   "metadata": {},
   "source": [
    "#### Ex.4. Evaluation - please assess the accuracy of the algorithms using a variety of metrics (at least 2)"
   ]
  },
  {
   "cell_type": "code",
   "execution_count": 239,
   "id": "df55c388",
   "metadata": {},
   "outputs": [
    {
     "name": "stdout",
     "output_type": "stream",
     "text": [
      "MSE: 0.18\n",
      "R2: 0.73\n",
      "accuracy_score: 0.82\n"
     ]
    }
   ],
   "source": [
    "Z = logreg.predict(X)\n",
    "MSE = mean_squared_error(Y, Z)\n",
    "r2 = r2_score(Y, Z)\n",
    "print(f'MSE: {MSE}')\n",
    "print(f'R2: {r2}')\n",
    "print(\"accuracy_score: {}\".format(accuracy_score(Y, Z)))"
   ]
  }
 ],
 "metadata": {
  "kernelspec": {
   "display_name": "Python 3",
   "language": "python",
   "name": "python3"
  },
  "language_info": {
   "codemirror_mode": {
    "name": "ipython",
    "version": 3
   },
   "file_extension": ".py",
   "mimetype": "text/x-python",
   "name": "python",
   "nbconvert_exporter": "python",
   "pygments_lexer": "ipython3",
   "version": "3.8.8"
  }
 },
 "nbformat": 4,
 "nbformat_minor": 5
}
