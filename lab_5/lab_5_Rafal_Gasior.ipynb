{
 "cells": [
  {
   "cell_type": "markdown",
   "id": "38d57c95",
   "metadata": {},
   "source": [
    "Rafał Gąsior 407326"
   ]
  },
  {
   "cell_type": "code",
   "execution_count": 259,
   "id": "f3cb7e2d",
   "metadata": {},
   "outputs": [],
   "source": [
    "import numpy as np\n",
    "import matplotlib.pyplot as plt\n",
    "import pandas as pd\n",
    "from sklearn.model_selection import train_test_split\n",
    "from sklearn.linear_model import LinearRegression\n",
    "from sklearn.metrics import mean_squared_error\n",
    "from scipy.spatial import distance\n",
    "from sklearn.metrics import accuracy_score"
   ]
  },
  {
   "cell_type": "markdown",
   "id": "bc0936f3",
   "metadata": {},
   "source": [
    "### Ex. 1 - kNN - own implementation\n",
    "Please provide your own implementation of the “K nearest neighbors” algorithm."
   ]
  },
  {
   "cell_type": "markdown",
   "id": "e3eb042c",
   "metadata": {},
   "source": [
    "1. Iris database - please divide into training and test sets"
   ]
  },
  {
   "cell_type": "code",
   "execution_count": 260,
   "id": "817030c6",
   "metadata": {},
   "outputs": [
    {
     "name": "stdout",
     "output_type": "stream",
     "text": [
      "data\n",
      "target\n",
      "frame\n",
      "target_names\n",
      "DESCR\n",
      "feature_names\n",
      "filename\n"
     ]
    }
   ],
   "source": [
    "from sklearn.datasets import load_iris\n",
    "\n",
    "iris=load_iris()\n",
    "for keys in iris.keys() :\n",
    "    print(keys)\n",
    "    \n",
    "features = iris.data\n",
    "label = iris.target\n",
    "features_train, features_test, labels_train, labels_test  = train_test_split(features, label, test_size=0.3)"
   ]
  },
  {
   "cell_type": "markdown",
   "id": "0a04cc87",
   "metadata": {},
   "source": [
    "2. Find the best value of k for the selected test set (show on the graph change of k and the error - for both the test and training sets)\n",
    "\n",
    "    * We choose the value of k (np. from 1 to n, where n will be the value for which the algorithm's results will deteriorate again)\n",
    "    \n",
    "    * For each example in the test set, we look for the k observations that are closest to our analyzed example. Use the Eukleidesa distance to determine the distance.\n",
    "    \n",
    "    * The advantage of a given class among the “k” closest neighbors (from the training set) proves that the example belongs to this class.\n",
    "    \n",
    "    * Use the most frequent value of the “k” nearest neighbors“ as the value for an unclassified example.\n",
    "    \n",
    "    * For each case of k, after classifying all examples in the test set, count the error (e.g. the number of examples wrongly classified to the set size) and write the pair (k - error) to collect data for summary graphs."
   ]
  },
  {
   "cell_type": "code",
   "execution_count": 261,
   "id": "264e26e4",
   "metadata": {},
   "outputs": [],
   "source": [
    "def best_k_value(n):\n",
    "    unique, counts = np.unique(n, return_counts = True)\n",
    "    return unique[np.argmax(counts)]"
   ]
  },
  {
   "cell_type": "code",
   "execution_count": 262,
   "id": "707ad04d",
   "metadata": {},
   "outputs": [],
   "source": [
    "def KNN_algorithm(k, features_train, features_test, labels_train):\n",
    "    predictions = []\n",
    "    for i in features_test:\n",
    "        neighbor = np.zeros((features_train.shape[0], 2), dtype = float)\n",
    "        neighbor[:,1] = labels_train\n",
    "        for idx, sample in enumerate(features_train):\n",
    "            neighbor[idx, 0] = distance.euclidean(i, sample)\n",
    "        neighbor = neighbor[np.argsort(neighbor[:,0])]\n",
    "        knn = neighbor[0:k, 1]\n",
    "        predictions.append(best_k_value(knn))\n",
    "    return predictions"
   ]
  },
  {
   "cell_type": "code",
   "execution_count": 263,
   "id": "782eaf80",
   "metadata": {},
   "outputs": [
    {
     "name": "stdout",
     "output_type": "stream",
     "text": [
      "Accuracy: 0.9555555555555556\n"
     ]
    }
   ],
   "source": [
    "predict = KNN_algorithm(k, features_train, features_test, labels_train)\n",
    "accuracy = accuracy_score(labels_test, predict)\n",
    "print(\"Accuracy:\", accuracy)"
   ]
  },
  {
   "cell_type": "code",
   "execution_count": 264,
   "id": "dcea9ff3",
   "metadata": {},
   "outputs": [
    {
     "data": {
      "text/plain": [
       "0.9249250484641359"
      ]
     },
     "execution_count": 264,
     "metadata": {},
     "output_type": "execute_result"
    }
   ],
   "source": [
    "reg = LinearRegression().fit(features_train, labels_train)\n",
    "reg.score(features_train, labels_train)"
   ]
  },
  {
   "cell_type": "code",
   "execution_count": 265,
   "id": "5b330d5e",
   "metadata": {},
   "outputs": [
    {
     "name": "stdout",
     "output_type": "stream",
     "text": [
      "Mean square error:  0.05542818766560366\n"
     ]
    }
   ],
   "source": [
    "Y_pred = reg.predict(features_test)\n",
    "MSE = mean_squared_error(labels_test, Y_pred)\n",
    "print('Mean square error: ', MSE)"
   ]
  },
  {
   "cell_type": "code",
   "execution_count": 266,
   "id": "539b4666",
   "metadata": {},
   "outputs": [
    {
     "data": {
      "image/png": "[encoded data removed]",
      "text/plain": [
       "<Figure size 720x360 with 1 Axes>"
      ]
     },
     "metadata": {
      "needs_background": "light"
     },
     "output_type": "display_data"
    }
   ],
   "source": [
    "accuracies = []\n",
    "\n",
    "for k in range(1, 20):\n",
    "    predictions = KNN_algorithm(k, features_train, features_test, labels_train)\n",
    "    accuracies.append(accuracy_score(labels_test, predictions))\n",
    "\n",
    "plt.figure(figsize=(10, 5))\n",
    "plt.plot([i for i in range(1, 20)], accuracies, marker=\"o\")\n",
    "plt.title('KNN algorithm')\n",
    "plt.xlabel('k neighbors')\n",
    "plt.ylabel('Accuracy')\n",
    "plt.grid()\n",
    "plt.show()"
   ]
  },
  {
   "cell_type": "markdown",
   "id": "9a58eb61",
   "metadata": {},
   "source": [
    "### Ex. 2 - kNN - Python (sklearn)\n",
    "Please solve the above problem using the library sklearn.neighbors.KNeighborsClassifier in order to check the correct implementation of the kNN algorithm.\n",
    "Useful libraries and functions:"
   ]
  },
  {
   "cell_type": "code",
   "execution_count": 267,
   "id": "4a0fd9c4",
   "metadata": {},
   "outputs": [],
   "source": [
    "from sklearn import datasets\n",
    "from sklearn.metrics import accuracy_score\n",
    "from sklearn.model_selection import train_test_split\n",
    "from sklearn.neighbors import KNeighborsClassifier"
   ]
  },
  {
   "cell_type": "code",
   "execution_count": 268,
   "id": "307cd35c",
   "metadata": {},
   "outputs": [
    {
     "name": "stdout",
     "output_type": "stream",
     "text": [
      "MSE: 0.044444444444444446\n",
      "Accuracy: 0.9555555555555556\n",
      "Test score: 0.9555555555555556\n",
      "Train score: 0.9428571428571428\n"
     ]
    }
   ],
   "source": [
    "k = 5\n",
    "score_train_tab = []\n",
    "score_test_tab = []\n",
    "accuracy_tab = []\n",
    "\n",
    "for k in range(1, 20):\n",
    "    kn = KNeighborsClassifier(n_neighbors=k)\n",
    "    kn.fit(features_train, labels_train)\n",
    "    y_prediction = kn.predict(features_test) \n",
    "    mse = mean_squared_error(labels_test, y_prediction)\n",
    "    accuracy = accuracy_score(labels_test, y_prediction)\n",
    "    accuracy_tab.append(accuracy)\n",
    "    score_test = kn.score(features_test, labels_test)\n",
    "    score_test_tab.append(score_test)\n",
    "    score_train = kn.score(features_train, labels_train)\n",
    "    score_train_tab.append(score_train)\n",
    "    \n",
    "print(\"MSE:\", mse)\n",
    "print(\"Accuracy:\", accuracy)\n",
    "print(\"Test score:\", score_test)\n",
    "print(\"Train score:\", score_train)"
   ]
  },
  {
   "cell_type": "code",
   "execution_count": 269,
   "id": "1ae79c5d",
   "metadata": {},
   "outputs": [
    {
     "data": {
      "image/png": "[encoded data removed]",
      "text/plain": [
       "<Figure size 432x288 with 1 Axes>"
      ]
     },
     "metadata": {
      "needs_background": "light"
     },
     "output_type": "display_data"
    }
   ],
   "source": [
    "plt.plot([i for i in range(1, 20)], score_train_tab, label='Training set')\n",
    "plt.plot([i for i in range(1, 20)], score_test_tab, label='Test set')\n",
    "plt.xlabel('k')\n",
    "plt.ylabel('Accuracy')\n",
    "plt.title('KNN Accuracy for Iris Dataset')\n",
    "plt.legend()\n",
    "plt.show()"
   ]
  },
  {
   "cell_type": "markdown",
   "id": "4dc69424",
   "metadata": {},
   "source": [
    "### Ex.3 - Decision trees\n",
    "In the scikit-learn library, decision trees are implemented by the class: DecisionTreeClassifier."
   ]
  },
  {
   "cell_type": "code",
   "execution_count": 270,
   "id": "03ed9f4f",
   "metadata": {},
   "outputs": [
    {
     "data": {
      "text/plain": [
       "DecisionTreeClassifier()"
      ]
     },
     "execution_count": 270,
     "metadata": {},
     "output_type": "execute_result"
    }
   ],
   "source": [
    "from sklearn.datasets import load_iris\n",
    "from sklearn import tree\n",
    "iris = load_iris()\n",
    "clf = tree.DecisionTreeClassifier()\n",
    "clf.fit(iris.data, iris.target)"
   ]
  },
  {
   "cell_type": "markdown",
   "id": "f8a6250b",
   "metadata": {},
   "source": [
    "***Predicting examples to belong to classes:***"
   ]
  },
  {
   "cell_type": "code",
   "execution_count": 271,
   "id": "4ce93bc4",
   "metadata": {},
   "outputs": [
    {
     "data": {
      "text/plain": [
       "array([0])"
      ]
     },
     "execution_count": 271,
     "metadata": {},
     "output_type": "execute_result"
    }
   ],
   "source": [
    "clf.predict(iris.data[:1, :])"
   ]
  },
  {
   "cell_type": "markdown",
   "id": "a15a5a11",
   "metadata": {},
   "source": [
    "***or estimating the probability of belonging to classes:***"
   ]
  },
  {
   "cell_type": "code",
   "execution_count": 272,
   "id": "0e492e1d",
   "metadata": {},
   "outputs": [
    {
     "data": {
      "text/plain": [
       "array([[1., 0., 0.]])"
      ]
     },
     "execution_count": 272,
     "metadata": {},
     "output_type": "execute_result"
    }
   ],
   "source": [
    "clf.predict_proba(iris.data[:1, :])"
   ]
  },
  {
   "cell_type": "markdown",
   "id": "c3a273c0",
   "metadata": {},
   "source": [
    "***Please illustrate the result using the 'Graphiz' tool and installing the 'pydot' library to python (please do the task at home and generate a '*.png' or '*.pdf' file)***"
   ]
  },
  {
   "cell_type": "code",
   "execution_count": 273,
   "id": "1a1ee5a2",
   "metadata": {},
   "outputs": [
    {
     "name": "stdout",
     "output_type": "stream",
     "text": [
      "Requirement already satisfied: pydot in c:\\users\\899105\\anaconda3\\lib\\site-packages (1.4.2)\n",
      "Requirement already satisfied: pyparsing>=2.1.4 in c:\\users\\899105\\anaconda3\\lib\\site-packages (from pydot) (2.4.7)\n",
      "Note: you may need to restart the kernel to use updated packages.\n"
     ]
    }
   ],
   "source": [
    "pip install pydot"
   ]
  },
  {
   "cell_type": "code",
   "execution_count": 274,
   "id": "5aa085c3",
   "metadata": {},
   "outputs": [
    {
     "data": {
      "text/plain": [
       "True"
      ]
     },
     "execution_count": 274,
     "metadata": {},
     "output_type": "execute_result"
    }
   ],
   "source": [
    "from six import StringIO  \n",
    "import pydot \n",
    "#dot_data = pydot.Dot('my_graph', graph_type='graph', bgcolor='yellow')\n",
    "dot_data = StringIO() \n",
    "tree.export_graphviz(clf, out_file=dot_data) \n",
    "graph = pydot.graph_from_dot_data(dot_data.getvalue()) \n",
    "graph[0].write(\"iris.pdf\")"
   ]
  },
  {
   "cell_type": "markdown",
   "id": "8bbe2e58",
   "metadata": {},
   "source": [
    "### Exercise\n",
    "Classification of handwritten numbers. Images have been normalized to size 28 x 28 px.\n",
    "The data that we will use is an image converted to a one-dimensional format by arranging successive lines. This data comes from the MNIST handwritten number database"
   ]
  },
  {
   "cell_type": "markdown",
   "id": "9cf11994",
   "metadata": {},
   "source": [
    "* Data loading"
   ]
  },
  {
   "cell_type": "code",
   "execution_count": 282,
   "id": "b89513f4",
   "metadata": {},
   "outputs": [],
   "source": [
    "import matplotlib.pyplot as plt\n",
    "import numpy as np\n",
    "from sklearn.metrics import classification_report, confusion_matrix, f1_score\n",
    "from sklearn import tree\n",
    "from sklearn.model_selection import train_test_split\n",
    "from scipy.io import loadmat\n",
    " \n",
    "dane = loadmat('mnist.mat')"
   ]
  },
  {
   "cell_type": "markdown",
   "id": "f70413a5",
   "metadata": {},
   "source": [
    "* Divide the data into parameters X and answer y:"
   ]
  },
  {
   "cell_type": "code",
   "execution_count": 283,
   "id": "0434165f",
   "metadata": {},
   "outputs": [],
   "source": [
    "X = dane[\"trainX\"]\n",
    "y = dane[\"trainY\"].T"
   ]
  },
  {
   "cell_type": "markdown",
   "id": "0f9f620c",
   "metadata": {},
   "source": [
    "* Standardization"
   ]
  },
  {
   "cell_type": "code",
   "execution_count": 284,
   "id": "97091abd",
   "metadata": {},
   "outputs": [],
   "source": [
    "for i in range(X.shape[0]):\n",
    "    X[i,:] = X[i,:]/np.std(X[i,:])"
   ]
  },
  {
   "cell_type": "markdown",
   "id": "29e157a8",
   "metadata": {},
   "source": [
    "* Convert digit 10 -> 0 (error in the dataset) "
   ]
  },
  {
   "cell_type": "code",
   "execution_count": 285,
   "id": "a696d1d1",
   "metadata": {},
   "outputs": [],
   "source": [
    "y[np.where(y==10)]=0"
   ]
  },
  {
   "cell_type": "markdown",
   "id": "930fcf25",
   "metadata": {},
   "source": [
    "* The height and width of the picture with the number"
   ]
  },
  {
   "cell_type": "code",
   "execution_count": 286,
   "id": "87f74c77",
   "metadata": {},
   "outputs": [],
   "source": [
    "h = 28\n",
    "w = 28"
   ]
  },
  {
   "cell_type": "markdown",
   "id": "8709ac3f",
   "metadata": {},
   "source": [
    "* Please display the number of digits and the number of pixels per image"
   ]
  },
  {
   "cell_type": "code",
   "execution_count": 290,
   "id": "58f35891",
   "metadata": {},
   "outputs": [
    {
     "name": "stdout",
     "output_type": "stream",
     "text": [
      "Number of digits X: 60000\n",
      "Number of pixels X: 784\n",
      "\n",
      "\n",
      "Number of digits y: 60000\n",
      "Number of pixels y: 1\n"
     ]
    }
   ],
   "source": [
    "digits, pixels = X.shape\n",
    "print(\"Number of digits X:\", digits)\n",
    "print(\"Number of pixels X:\", pixels)\n",
    "print(\"\\n\")\n",
    "digits, pixels = y.shape\n",
    "print(\"Number of digits y:\", digits)\n",
    "print(\"Number of pixels y:\", pixels)"
   ]
  },
  {
   "cell_type": "markdown",
   "id": "4b3526bf",
   "metadata": {},
   "source": [
    "* Auxiliary function plot_mnist to display pictures from the database:"
   ]
  },
  {
   "cell_type": "code",
   "execution_count": 291,
   "id": "735f3d45",
   "metadata": {},
   "outputs": [],
   "source": [
    "def plot_mnist(images, titles, h, w, n_row=3, n_col=4):\n",
    "    plt.figure(figsize=(1.8 * n_col, 2.4 * n_row))\n",
    "    plt.subplots_adjust(bottom=0, left=.01, right=.99, top=.90, hspace=.05)\n",
    "    for i in range(n_row * n_col):\n",
    "        plt.subplot(n_row, n_col, i + 1)\n",
    "        plt.imshow(images[i].reshape((h, w)).T, cmap=plt.cm.gray)\n",
    "        plt.title(titles[i], size=12)\n",
    "        plt.xticks(())\n",
    "        plt.yticks(())"
   ]
  },
  {
   "cell_type": "markdown",
   "id": "c820690c",
   "metadata": {},
   "source": [
    "* Please display sample digits from the dataset (functionplot_mnist)."
   ]
  },
  {
   "cell_type": "code",
   "execution_count": 292,
   "id": "28260ae6",
   "metadata": {},
   "outputs": [
    {
     "name": "stderr",
     "output_type": "stream",
     "text": [
      "C:\\Users\\899105\\anaconda3\\lib\\site-packages\\matplotlib\\text.py:1165: FutureWarning: elementwise comparison failed; returning scalar instead, but in the future will perform elementwise comparison\n",
      "  if s != self._text:\n"
     ]
    },
    {
     "data": {
      "image/png": "[encoded data removed]",
      "text/plain": [
       "<Figure size 129.6x172.8 with 1 Axes>"
      ]
     },
     "metadata": {},
     "output_type": "display_data"
    }
   ],
   "source": [
    "plot_mnist([X[1]], [y[1]], h, w, n_row=1, n_col=1)\n",
    "plt.show()"
   ]
  },
  {
   "cell_type": "code",
   "execution_count": 293,
   "id": "cd316ba7",
   "metadata": {},
   "outputs": [
    {
     "data": {
      "image/png": "[encoded data removed]",
      "text/plain": [
       "<Figure size 129.6x172.8 with 1 Axes>"
      ]
     },
     "metadata": {},
     "output_type": "display_data"
    }
   ],
   "source": [
    "plot_mnist([X[100]], [y[100]], h, w, n_row=1, n_col=1)\n",
    "plt.show()"
   ]
  },
  {
   "cell_type": "code",
   "execution_count": 295,
   "id": "e25aec82",
   "metadata": {},
   "outputs": [
    {
     "data": {
      "image/png": "[encoded data removed]",
      "text/plain": [
       "<Figure size 129.6x172.8 with 1 Axes>"
      ]
     },
     "metadata": {},
     "output_type": "display_data"
    }
   ],
   "source": [
    "plot_mnist([X[1133]], [y[1133]], h, w, n_row=1, n_col=1)\n",
    "plt.show()"
   ]
  },
  {
   "cell_type": "code",
   "execution_count": 296,
   "id": "a56f0248",
   "metadata": {},
   "outputs": [
    {
     "data": {
      "image/png": "[encoded data removed]",
      "text/plain": [
       "<Figure size 129.6x172.8 with 1 Axes>"
      ]
     },
     "metadata": {},
     "output_type": "display_data"
    }
   ],
   "source": [
    "plot_mnist([X[1024]], [y[1024]], h, w, n_row=1, n_col=1)\n",
    "plt.show()"
   ]
  },
  {
   "cell_type": "code",
   "execution_count": 297,
   "id": "9727ecdd",
   "metadata": {},
   "outputs": [
    {
     "data": {
      "image/png": "[encoded data removed]",
      "text/plain": [
       "<Figure size 129.6x172.8 with 1 Axes>"
      ]
     },
     "metadata": {},
     "output_type": "display_data"
    }
   ],
   "source": [
    "plot_mnist([X[50]], [y[50]], h, w, n_row=1, n_col=1)\n",
    "plt.show()"
   ]
  },
  {
   "cell_type": "code",
   "execution_count": 298,
   "id": "de762cf8",
   "metadata": {},
   "outputs": [
    {
     "data": {
      "image/png": "[encoded data removed]",
      "text/plain": [
       "<Figure size 129.6x172.8 with 1 Axes>"
      ]
     },
     "metadata": {},
     "output_type": "display_data"
    }
   ],
   "source": [
    "plot_mnist([X[777]], [y[777]], h, w, n_row=1, n_col=1)\n",
    "plt.show()"
   ]
  },
  {
   "cell_type": "markdown",
   "id": "84abc95d",
   "metadata": {},
   "source": [
    "* Please divide the dataset into learner (70%) and training. "
   ]
  },
  {
   "cell_type": "code",
   "execution_count": 299,
   "id": "d7853227",
   "metadata": {},
   "outputs": [],
   "source": [
    "X_train, X_test, y_train, y_test = train_test_split(X, y, test_size=0.3)"
   ]
  },
  {
   "cell_type": "markdown",
   "id": "4f8c21a3",
   "metadata": {},
   "source": [
    "* Create an instance of the classifier, then train and predict for test data.\n",
    " Tree parameters:"
   ]
  },
  {
   "cell_type": "code",
   "execution_count": 300,
   "id": "fa03c3a2",
   "metadata": {},
   "outputs": [],
   "source": [
    "DEPTH = 10\n",
    "clf = tree.DecisionTreeClassifier(max_depth=DEPTH)\n",
    "clf.fit(X_train, y_train)\n",
    "y_prediction = clf.predict(X_test)"
   ]
  },
  {
   "cell_type": "markdown",
   "id": "6354723d",
   "metadata": {},
   "source": [
    "* Please provide F1 result, confusion matrix and classification report. "
   ]
  },
  {
   "cell_type": "code",
   "execution_count": 302,
   "id": "db690966",
   "metadata": {},
   "outputs": [
    {
     "data": {
      "text/plain": [
       "0.8232113912038566"
      ]
     },
     "execution_count": 302,
     "metadata": {},
     "output_type": "execute_result"
    }
   ],
   "source": [
    "f1_score(y_test, y_prediction, average='weighted')"
   ]
  },
  {
   "cell_type": "code",
   "execution_count": 303,
   "id": "c7f47c73",
   "metadata": {},
   "outputs": [
    {
     "data": {
      "text/plain": [
       "array([[1523,    0,   37,   21,    6,   48,   14,   13,   28,   12],\n",
       "       [   0, 1864,   32,   13,    5,   15,    7,   16,   31,   14],\n",
       "       [  39,   23, 1502,   39,   25,   31,   54,   50,   92,   25],\n",
       "       [  25,   14,   75, 1380,   16,  155,   12,   38,   56,   69],\n",
       "       [   8,    9,   59,   23, 1395,   57,   21,   20,   23,  140],\n",
       "       [  22,    9,   34,  127,   23, 1242,   60,   17,   37,   41],\n",
       "       [  32,    7,   32,   18,   28,   72, 1528,    7,   43,   10],\n",
       "       [   2,   13,   52,   36,   30,   14,    2, 1622,   35,   84],\n",
       "       [   9,   27,   76,   43,   29,   74,   35,   19, 1414,   71],\n",
       "       [  10,   11,   70,   46,   94,   89,    2,   56,   38, 1334]],\n",
       "      dtype=int64)"
      ]
     },
     "execution_count": 303,
     "metadata": {},
     "output_type": "execute_result"
    }
   ],
   "source": [
    "confusion_matrix(y_test, y_prediction)"
   ]
  },
  {
   "cell_type": "code",
   "execution_count": 305,
   "id": "39ee19a7",
   "metadata": {},
   "outputs": [
    {
     "name": "stdout",
     "output_type": "stream",
     "text": [
      "              precision    recall  f1-score   support\n",
      "\n",
      "           0       0.91      0.89      0.90      1702\n",
      "           1       0.94      0.93      0.94      1997\n",
      "           2       0.76      0.80      0.78      1880\n",
      "           3       0.79      0.75      0.77      1840\n",
      "           4       0.84      0.79      0.82      1755\n",
      "           5       0.69      0.77      0.73      1612\n",
      "           6       0.88      0.86      0.87      1777\n",
      "           7       0.87      0.86      0.87      1890\n",
      "           8       0.79      0.79      0.79      1797\n",
      "           9       0.74      0.76      0.75      1750\n",
      "\n",
      "    accuracy                           0.82     18000\n",
      "   macro avg       0.82      0.82      0.82     18000\n",
      "weighted avg       0.82      0.82      0.82     18000\n",
      "\n"
     ]
    }
   ],
   "source": [
    "print(classification_report(y_test, y_prediction))"
   ]
  }
 ],
 "metadata": {
  "kernelspec": {
   "display_name": "Python 3",
   "language": "python",
   "name": "python3"
  },
  "language_info": {
   "codemirror_mode": {
    "name": "ipython",
    "version": 3
   },
   "file_extension": ".py",
   "mimetype": "text/x-python",
   "name": "python",
   "nbconvert_exporter": "python",
   "pygments_lexer": "ipython3",
   "version": "3.8.8"
  }
 },
 "nbformat": 4,
 "nbformat_minor": 5
}
